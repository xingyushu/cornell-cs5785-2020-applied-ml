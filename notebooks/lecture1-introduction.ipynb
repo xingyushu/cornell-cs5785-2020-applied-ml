{
  "cells": [
    {
      "cell_type": "markdown",
      "metadata": {
        "id": "i_f5u2x9nn6I"
      },
      "source": [
        "<left><img width=25% src=\"https://github.com/xingyushu/cornell-cs5785-2020-applied-ml/blob/main/notebooks/img/cornell_tech2.svg?raw=1\"></left>\n",
        "\n",
        "# Lecture 1: Introduction to Machine Learning\n",
        "\n",
        "### Applied Machine Learning\n",
        "\n",
        "__Volodymyr Kuleshov__<br>Cornell Tech"
      ]
    },
    {
      "cell_type": "markdown",
      "metadata": {
        "id": "GiahNv16_Z7p"
      },
      "source": [
        "# Welcome to Applied Machine Learning!\n",
        "\n",
        "Machine learning is one of today's most exciting emerging technologies.\n",
        "\n",
        "In this course, you will learn what machine learning is, what are the most important techniques in machine learning, and how to apply them to solve problems in the real world."
      ]
    },
    {
      "cell_type": "markdown",
      "metadata": {
        "id": "WRXHLQie_Z7p"
      },
      "source": [
        "# Part 1: What is Machine Learning?\n",
        "\n",
        "We hear a lot about machine learning (or ML for short) in the news.\n",
        "\n",
        "<table><tr>\n",
        "    <td><center><img src=\"https://github.com/xingyushu/cornell-cs5785-2020-applied-ml/blob/main/notebooks/img/breakthrough.jpg?raw=1\"/></center></td>\n",
        "    <td><center><img width=90% src=\"https://github.com/xingyushu/cornell-cs5785-2020-applied-ml/blob/main/notebooks/img/alphago.jpeg?raw=1\"/></center></td>\n",
        "    <td><center><img src=\"https://github.com/xingyushu/cornell-cs5785-2020-applied-ml/blob/main/notebooks/img/obama2.jpg?raw=1\"/></center></td>    \n",
        "</tr></table>    \n",
        "\n",
        "But what is it, really?"
      ]
    },
    {
      "cell_type": "markdown",
      "metadata": {
        "id": "QRwC4CuE_Z7p"
      },
      "source": [
        "# ML in Everyday Life: Search Engines\n",
        "\n",
        "You use machine learninng every day when you run a search engine query.\n",
        "\n",
        "<center><img src=\"https://github.com/xingyushu/cornell-cs5785-2020-applied-ml/blob/main/notebooks/img/google.png?raw=1\"/></center>"
      ]
    },
    {
      "cell_type": "markdown",
      "metadata": {
        "id": "HhiMQVp2_Z7p"
      },
      "source": [
        "# ML in Everyday Life: Personal Assitants\n",
        "\n",
        "Machine learning also powers the speech recognition, question answering and other intelligent capabilities of smartphone assistants like Apple Siri.\n",
        "<table><tr>\n",
        "    <td><center><img src=\"https://github.com/xingyushu/cornell-cs5785-2020-applied-ml/blob/main/notebooks/img/siri.png?raw=1\"/></center></td>\n",
        "    <td><center><img src=\"https://github.com/xingyushu/cornell-cs5785-2020-applied-ml/blob/main/notebooks/img/google_assistant.png?raw=1\"/></center></td>\n",
        "</tr></table>    "
      ]
    },
    {
      "cell_type": "markdown",
      "metadata": {
        "id": "_eNunU20_Z7q"
      },
      "source": [
        "# ML in Everyday Life: Spam/Fraud Detection\n",
        "\n",
        "Machine learning is used in every spam filter, such as in Gmail.\n",
        "<br>\n",
        "<center><img src=\"https://github.com/xingyushu/cornell-cs5785-2020-applied-ml/blob/main/notebooks/img/spam.png?raw=1\"/></center>"
      ]
    },
    {
      "cell_type": "markdown",
      "metadata": {
        "id": "vNSTEdXj_Z7q"
      },
      "source": [
        "ML systems are also used by credit card companies and banks to automatically detect fraudulent behavior."
      ]
    },
    {
      "cell_type": "markdown",
      "metadata": {
        "id": "oYBhnkvc_Z7q"
      },
      "source": [
        "# ML in Everyday Life: Self-Driving Cars\n",
        "\n",
        "One of the most exciting and cutting-edge uses of machine learning algorithms are in autonomous vehicles.\n",
        "\n",
        "<center><img width=\"80%\" src=\"https://github.com/xingyushu/cornell-cs5785-2020-applied-ml/blob/main/notebooks/img/waymo.jpg?raw=1\"/></center>"
      ]
    },
    {
      "cell_type": "markdown",
      "metadata": {
        "id": "J_yNsGyD_Z7q"
      },
      "source": [
        "# A Definition of Machine Learning\n",
        "\n",
        "In 1959, Arthur Samuel defined machine learning as follows.\n",
        "\n",
        "> Machine learning is a field of study that gives computers the ability to learn without being explicitly programmed.\n",
        "\n",
        "What does \"learn\" and \"explicitly programmed\" mean here? Let's look at an example."
      ]
    },
    {
      "cell_type": "markdown",
      "metadata": {
        "id": "pMzzRXIR_Z7q"
      },
      "source": [
        "# An Example: Self Driving Cars\n",
        "\n",
        "A self-driving car system uses dozens of components that include detection of cars, pedestrians, and other objects.\n",
        "<br>\n",
        "<center><img width=80% src=\"https://github.com/xingyushu/cornell-cs5785-2020-applied-ml/blob/main/notebooks/img/tesla.jpg?raw=1\"/></center>"
      ]
    },
    {
      "cell_type": "markdown",
      "metadata": {
        "id": "GhmI0Jy8_Z7q"
      },
      "source": [
        "# Self Driving Cars: A Rule-Based Algorithm\n",
        "\n",
        "One way to build a detection system is to write down rules.\n",
        "<left><img width=50% src=\"https://github.com/xingyushu/cornell-cs5785-2020-applied-ml/blob/main/notebooks/img/tesla_zoom.jpg?raw=1\"/></left>\n",
        "\n",
        "<!-- <table style=\"border: 1px\"><tr>\n",
        "    <td><left>One way to build a detection system is to write down rules.</left></td>\n",
        "    <td><img src=\"img/tesla_zoom.jpg\"/></td>\n",
        "</tr></table> -->"
      ]
    },
    {
      "cell_type": "code",
      "execution_count": 2,
      "metadata": {
        "id": "6H3JS83x_Z7q",
        "outputId": "66f24ebd-2b56-4f78-fc73-b11e9683c58a",
        "colab": {
          "base_uri": "https://localhost:8080/",
          "height": 240
        }
      },
      "outputs": [
        {
          "output_type": "error",
          "ename": "NameError",
          "evalue": "ignored",
          "traceback": [
            "\u001b[0;31m---------------------------------------------------------------------------\u001b[0m",
            "\u001b[0;31mNameError\u001b[0m                                 Traceback (most recent call last)",
            "\u001b[0;32m<ipython-input-2-4a4db49b54a7>\u001b[0m in \u001b[0;36m<module>\u001b[0;34m\u001b[0m\n\u001b[1;32m      1\u001b[0m \u001b[0;31m# pseudocode example for a rule-based classification system\u001b[0m\u001b[0;34m\u001b[0m\u001b[0;34m\u001b[0m\u001b[0;34m\u001b[0m\u001b[0m\n\u001b[0;32m----> 2\u001b[0;31m \u001b[0mobject\u001b[0m \u001b[0;34m=\u001b[0m \u001b[0mcamera\u001b[0m\u001b[0;34m.\u001b[0m\u001b[0mget_object\u001b[0m\u001b[0;34m(\u001b[0m\u001b[0;34m)\u001b[0m\u001b[0;34m\u001b[0m\u001b[0;34m\u001b[0m\u001b[0m\n\u001b[0m\u001b[1;32m      3\u001b[0m \u001b[0;32mif\u001b[0m \u001b[0mobject\u001b[0m\u001b[0;34m.\u001b[0m\u001b[0mhas_wheels\u001b[0m\u001b[0;34m(\u001b[0m\u001b[0;34m)\u001b[0m\u001b[0;34m:\u001b[0m \u001b[0;31m# does the object have wheels?\u001b[0m\u001b[0;34m\u001b[0m\u001b[0;34m\u001b[0m\u001b[0m\n\u001b[1;32m      4\u001b[0m     \u001b[0;32mif\u001b[0m \u001b[0mlen\u001b[0m\u001b[0;34m(\u001b[0m\u001b[0mobject\u001b[0m\u001b[0;34m.\u001b[0m\u001b[0mwheels\u001b[0m\u001b[0;34m)\u001b[0m \u001b[0;34m==\u001b[0m \u001b[0;36m4\u001b[0m\u001b[0;34m:\u001b[0m \u001b[0;32mreturn\u001b[0m \u001b[0;34m\"Car\"\u001b[0m \u001b[0;31m# four wheels => car\u001b[0m\u001b[0;34m\u001b[0m\u001b[0;34m\u001b[0m\u001b[0m\n\u001b[1;32m      5\u001b[0m     \u001b[0;32melif\u001b[0m \u001b[0mlen\u001b[0m\u001b[0;34m(\u001b[0m\u001b[0mobject\u001b[0m\u001b[0;34m.\u001b[0m\u001b[0mwheels\u001b[0m\u001b[0;34m)\u001b[0m \u001b[0;34m==\u001b[0m \u001b[0;36m2\u001b[0m\u001b[0;34m:\u001b[0m\u001b[0;34m\u001b[0m\u001b[0;34m\u001b[0m\u001b[0m\n",
            "\u001b[0;31mNameError\u001b[0m: name 'camera' is not defined"
          ]
        }
      ],
      "source": [
        "# pseudocode example for a rule-based classification system\n",
        "object = camera.get_object()\n",
        "if object.has_wheels(): # does the object have wheels?\n",
        "    if len(object.wheels) == 4: return \"Car\" # four wheels => car    \n",
        "    elif len(object.wheels) == 2:\n",
        "        if object.seen_from_back():\n",
        "            return \"Car\" # viewed from back, car has 2 wheels\n",
        "        else:\n",
        "            return \"Bicycle\" # normally, 2 wheels => bicycle\n",
        "return \"Unknown\" # no wheels? we don't know what it is"
      ]
    },
    {
      "cell_type": "markdown",
      "metadata": {
        "id": "9lR5oTnd_Z7r"
      },
      "source": [
        "In practice, it's almost impossible for a human to specify all the edge cases."
      ]
    },
    {
      "cell_type": "markdown",
      "metadata": {
        "id": "dxC9WSld_Z7r"
      },
      "source": [
        "# Self Driving Cars: An ML Approach\n",
        "\n",
        "The machine learning approach is to teach a computer how to do detection by showing it many examples of different objects.\n",
        "\n",
        "<center><img src=\"https://github.com/xingyushu/cornell-cs5785-2020-applied-ml/blob/main/notebooks/img/tesla_data.png?raw=1\"/></center>\n",
        "\n",
        "No manual programming is needed: the computer learns what defines a pedestrian or a car on its own!"
      ]
    },
    {
      "cell_type": "markdown",
      "metadata": {
        "id": "5huOOyEO_Z7r"
      },
      "source": [
        "# Revisiting Our Definition of ML\n",
        "\n",
        "> Machine learning is a field of study that gives computers the ability to learn without being explicitly programmed. (Arthur Samuel, 1959.)\n",
        "\n",
        "This principle can be applied to countless domains:\n",
        "medical diagnosis, factory automation, machine translation, and many more!"
      ]
    },
    {
      "cell_type": "markdown",
      "metadata": {
        "id": "X-XdEziZ_Z7r"
      },
      "source": [
        "# Why Machine Learning?\n",
        "\n",
        "Why is this approach to building software interesting?"
      ]
    },
    {
      "cell_type": "markdown",
      "metadata": {
        "id": "il6qSHBD_Z7r"
      },
      "source": [
        "* It allows building practical systems for real-world applications that couldn't be solved otherwise."
      ]
    },
    {
      "cell_type": "markdown",
      "metadata": {
        "id": "VlwzsGN2_Z7r"
      },
      "source": [
        "* Learning is wildly regarded as a key approach towards building general-purpose artificial intelligence systems."
      ]
    },
    {
      "cell_type": "markdown",
      "metadata": {
        "id": "bfjk9emW_Z7r"
      },
      "source": [
        "* The science and engineering of machine learning offers insights into human intelligence."
      ]
    },
    {
      "cell_type": "markdown",
      "metadata": {
        "id": "y783Jwaz_Z7r"
      },
      "source": [
        "<left><img width=25% src=\"https://github.com/xingyushu/cornell-cs5785-2020-applied-ml/blob/main/notebooks/img/cornell_tech2.svg?raw=1\"></left>\n",
        "# Part 2: Three Approaches to Machine Learning\n",
        "\n",
        "Machine learning is broadly defined as the science of building software that has the ability to learn without being explicitly programmed.\n",
        "\n",
        "How might we enable machines to learn? Let's look at a few examples."
      ]
    },
    {
      "cell_type": "markdown",
      "metadata": {
        "id": "n0JP6mXU_Z7r"
      },
      "source": [
        "# Supervised Learning\n",
        "\n",
        "The most common approach to machine learning is supervised learning.\n",
        "\n",
        "<center><img width=70% src=\"https://github.com/xingyushu/cornell-cs5785-2020-applied-ml/blob/main/notebooks/img/tesla_data.png?raw=1\"/></center>\n",
        "\n",
        "1. First, we collect a dataset of labeled training examples.\n",
        "2. We train a model to output accurate predictions on this dataset.\n",
        "3. When the model sees new, similar data, it will also be accurate."
      ]
    },
    {
      "cell_type": "markdown",
      "metadata": {
        "id": "aPxN1TS3_Z7r"
      },
      "source": [
        "# A Supervised Learning Dataset\n",
        "\n",
        "Consider a simple dataset for supervised learning: house prices in Boston.\n",
        "* Each datapoint is a house.\n",
        "* We know its price, neighborhood, size, etc."
      ]
    },
    {
      "cell_type": "code",
      "execution_count": 3,
      "metadata": {
        "id": "DIIaLU4z_Z7s",
        "outputId": "cb9790a2-c44d-44e5-806d-bb401029b4cf",
        "colab": {
          "base_uri": "https://localhost:8080/"
        }
      },
      "outputs": [
        {
          "output_type": "stream",
          "name": "stderr",
          "text": [
            "/usr/local/lib/python3.8/dist-packages/sklearn/utils/deprecation.py:87: FutureWarning: Function load_boston is deprecated; `load_boston` is deprecated in 1.0 and will be removed in 1.2.\n",
            "\n",
            "    The Boston housing prices dataset has an ethical problem. You can refer to\n",
            "    the documentation of this function for further details.\n",
            "\n",
            "    The scikit-learn maintainers therefore strongly discourage the use of this\n",
            "    dataset unless the purpose of the code is to study and educate about\n",
            "    ethical issues in data science and machine learning.\n",
            "\n",
            "    In this special case, you can fetch the dataset from the original\n",
            "    source::\n",
            "\n",
            "        import pandas as pd\n",
            "        import numpy as np\n",
            "\n",
            "\n",
            "        data_url = \"http://lib.stat.cmu.edu/datasets/boston\"\n",
            "        raw_df = pd.read_csv(data_url, sep=\"\\s+\", skiprows=22, header=None)\n",
            "        data = np.hstack([raw_df.values[::2, :], raw_df.values[1::2, :2]])\n",
            "        target = raw_df.values[1::2, 2]\n",
            "\n",
            "    Alternative datasets include the California housing dataset (i.e.\n",
            "    :func:`~sklearn.datasets.fetch_california_housing`) and the Ames housing\n",
            "    dataset. You can load the datasets as follows::\n",
            "\n",
            "        from sklearn.datasets import fetch_california_housing\n",
            "        housing = fetch_california_housing()\n",
            "\n",
            "    for the California housing dataset and::\n",
            "\n",
            "        from sklearn.datasets import fetch_openml\n",
            "        housing = fetch_openml(name=\"house_prices\", as_frame=True)\n",
            "\n",
            "    for the Ames housing dataset.\n",
            "    \n",
            "  warnings.warn(msg, category=FutureWarning)\n"
          ]
        }
      ],
      "source": [
        "# We will load the dataset from the sklearn ML library\n",
        "from sklearn import datasets\n",
        "boston = datasets.load_boston()"
      ]
    },
    {
      "cell_type": "markdown",
      "metadata": {
        "id": "jR-1qd0v_Z7s"
      },
      "source": [
        "We will visualize two variables in this dataset: house price and the education level in the neighborhood."
      ]
    },
    {
      "cell_type": "code",
      "execution_count": 4,
      "metadata": {
        "id": "Gk0zSmXM_Z7s",
        "outputId": "a292161a-5066-47a3-9db4-9d7369c45acf",
        "colab": {
          "base_uri": "https://localhost:8080/",
          "height": 313
        }
      },
      "outputs": [
        {
          "output_type": "execute_result",
          "data": {
            "text/plain": [
              "Text(0.5, 1.0, 'House prices as a function of average neighborhood education level')"
            ]
          },
          "metadata": {},
          "execution_count": 4
        },
        {
          "output_type": "display_data",
          "data": {
            "text/plain": [
              "<Figure size 864x288 with 1 Axes>"
            ],
            "image/png": "[encoded data removed]"
          },
          "metadata": {
            "needs_background": "light"
          }
        }
      ],
      "source": [
        "import matplotlib.pyplot as plt\n",
        "plt.rcParams['figure.figsize'] = [12, 4]\n",
        "plt.scatter(boston.data[:,12], boston.target)\n",
        "plt.ylabel(\"Median house price ($K)\")\n",
        "plt.xlabel(\"% of adults in neighborhood that don't have a high school diploma\")\n",
        "plt.title(\"House prices as a function of average neighborhood education level\")"
      ]
    },
    {
      "cell_type": "markdown",
      "metadata": {
        "id": "l7OaJl0o_Z7s"
      },
      "source": [
        "# A Supervised Learning Algorithm\n",
        "\n",
        "We can use this dataset of examples to fit a supervised learning model.\n",
        "\n",
        "* The model maps input $x$ (the education level) to output a $y$ (the house price).\n",
        "* It learns the mapping from our dataset of examples $(x, y)$."
      ]
    },
    {
      "cell_type": "code",
      "execution_count": 6,
      "metadata": {
        "id": "c3Gqrqa0_Z7s",
        "outputId": "4a530b95-8ce2-4518-eda8-9c44e539ce25",
        "colab": {
          "base_uri": "https://localhost:8080/",
          "height": 313
        }
      },
      "outputs": [
        {
          "output_type": "execute_result",
          "data": {
            "text/plain": [
              "Text(0.5, 1.0, 'House prices as a function of average neighborhood education level')"
            ]
          },
          "metadata": {},
          "execution_count": 6
        },
        {
          "output_type": "display_data",
          "data": {
            "text/plain": [
              "<Figure size 864x288 with 1 Axes>"
            ],
            "image/png": "[encoded data removed]"
          },
          "metadata": {
            "needs_background": "light"
          }
        }
      ],
      "source": [
        "import numpy as np\n",
        "from sklearn.kernel_ridge import KernelRidge\n",
        "\n",
        "# Apply a supervised learning algorithm\n",
        "model = KernelRidge(alpha=1, kernel='poly')\n",
        "model.fit(boston.data[:,[12]], boston.target.flatten())\n",
        "predictions = model.predict(np.linspace(2, 35)[:, np.newaxis])\n",
        "\n",
        "# Visualize the results\n",
        "plt.scatter(boston.data[:,[12]], boston.target, alpha=0.35)\n",
        "plt.plot(np.linspace(2, 35), predictions, c='red')\n",
        "plt.ylabel(\"Median house price ($K)\")\n",
        "plt.xlabel(\"% of adults in neighborhood that don't have a high school diploma\")\n",
        "plt.title(\"House prices as a function of average neighborhood education level\")"
      ]
    },
    {
      "cell_type": "markdown",
      "metadata": {
        "id": "CM8Vsqrz_Z7s"
      },
      "source": [
        "# Applications of Supervised Learning\n",
        "\n",
        "Many of the most important applications of machine learning are supervised:\n",
        "* Classifying medical images.\n",
        "* Translating between pairs of languages.\n",
        "* Detecting objects in a self-driving car."
      ]
    },
    {
      "cell_type": "markdown",
      "metadata": {
        "id": "IAIGWpxb_Z7s"
      },
      "source": [
        "# Unsupervised Learning\n",
        "\n",
        "Here, we have a dataset *without* labels. Our goal is to learn something interesting about the structure of the data:\n",
        "* Clusters hidden in the dataset.\n",
        "* Outliers: particularly unusual and/or interesting datapoints.\n",
        "* Useful signal hidden in noise, e.g. human speech over a noisy phone."
      ]
    },
    {
      "cell_type": "markdown",
      "metadata": {
        "id": "Vr2nC29W_Z7s"
      },
      "source": [
        "# An Unsupervised Learning Dataset\n",
        "\n",
        "Here is a simple example of an unsupervised learning dataset: Iris flowers."
      ]
    },
    {
      "cell_type": "code",
      "execution_count": 7,
      "metadata": {
        "id": "UBsM4BUG_Z7s",
        "outputId": "2706f95d-f5dc-449a-f4a2-d459630b99a4",
        "colab": {
          "base_uri": "https://localhost:8080/",
          "height": 313
        }
      },
      "outputs": [
        {
          "output_type": "execute_result",
          "data": {
            "text/plain": [
              "Text(0.5, 1.0, 'Dataset of Iris flowers')"
            ]
          },
          "metadata": {},
          "execution_count": 7
        },
        {
          "output_type": "display_data",
          "data": {
            "text/plain": [
              "<Figure size 864x288 with 1 Axes>"
            ],
            "image/png": "[encoded data removed]"
          },
          "metadata": {
            "needs_background": "light"
          }
        }
      ],
      "source": [
        "# Load and visualize the Iris flower dataset\n",
        "iris = datasets.load_iris()\n",
        "plt.scatter(iris.data[:,0], iris.data[:,1], alpha=0.5)\n",
        "plt.ylabel(\"Sepal width (cm)\")\n",
        "plt.xlabel(\"Sepal length (cm)\")\n",
        "plt.title(\"Dataset of Iris flowers\")"
      ]
    },
    {
      "cell_type": "markdown",
      "metadata": {
        "id": "EoTqtkFD_Z7t"
      },
      "source": [
        "# An Unsupervised Learning Algorithm\n",
        "\n",
        "We can use this dataset of examples to fit an unsupervised learning model.\n",
        "* The model defines a probability distribution over the inputs.\n",
        "* The probability distribution identifies multiple components (multiple peaks).\n",
        "* The components indicate structure in the data."
      ]
    },
    {
      "cell_type": "code",
      "execution_count": 12,
      "metadata": {
        "id": "CxdECPka_Z7t",
        "outputId": "cdc2fa0e-196d-48c9-f5ca-26513ceda872",
        "colab": {
          "base_uri": "https://localhost:8080/"
        }
      },
      "outputs": [
        {
          "output_type": "execute_result",
          "data": {
            "text/plain": [
              "GaussianMixture(n_components=5)"
            ]
          },
          "metadata": {},
          "execution_count": 12
        }
      ],
      "source": [
        "# fit a Gaussian Mixture Model with three components\n",
        "from sklearn import mixture\n",
        "model = mixture.GaussianMixture(n_components=5, covariance_type='full')\n",
        "model.fit(iris.data[:,[0,1]])"
      ]
    },
    {
      "cell_type": "code",
      "execution_count": 13,
      "metadata": {
        "id": "98zQaFVz_Z7t",
        "outputId": "0766f794-f683-4198-e799-50529f6db22d",
        "colab": {
          "base_uri": "https://localhost:8080/",
          "height": 313
        }
      },
      "outputs": [
        {
          "output_type": "execute_result",
          "data": {
            "text/plain": [
              "<matplotlib.legend.Legend at 0x7f081b23b8e0>"
            ]
          },
          "metadata": {},
          "execution_count": 13
        },
        {
          "output_type": "display_data",
          "data": {
            "text/plain": [
              "<Figure size 864x288 with 1 Axes>"
            ],
            "image/png": "[encoded data removed]"
          },
          "metadata": {
            "needs_background": "light"
          }
        }
      ],
      "source": [
        "# display learned probabilities as a contour plot\n",
        "x, y = np.linspace(4.0, 8.0), np.linspace(2.0, 4.5)\n",
        "X, Y = np.meshgrid(x, y)\n",
        "Z = -model.score_samples(np.array([X.ravel(), Y.ravel()]).T).reshape(X.shape)\n",
        "plt.contour(X, Y, Z, levels=np.logspace(0, 10, 1), cmap=\"gray\", alpha=0.5)\n",
        "plt.scatter(iris.data[:,0], iris.data[:,1], alpha=0.5)\n",
        "plt.scatter(model.means_[:,0], model.means_[:,1], marker='D', c='r')\n",
        "plt.ylabel(\"Sepal width (cm)\")\n",
        "plt.xlabel(\"Sepal length (cm)\")\n",
        "plt.title(\"Dataset of Iris flowers\")\n",
        "plt.legend(['Datapoints', 'Probability peaks'])"
      ]
    },
    {
      "cell_type": "code",
      "execution_count": null,
      "metadata": {
        "id": "F2R0vE0Y_Z7t",
        "outputId": "d5deabbe-d05b-41fa-f488-4e46167504d9"
      },
      "outputs": [
        {
          "data": {
            "text/plain": [
              "<matplotlib.legend.Legend at 0x1229d3668>"
            ]
          },
          "execution_count": 28,
          "metadata": {},
          "output_type": "execute_result"
        },
        {
          "data": {
            "image/png": "[encoded data removed]",
            "text/plain": [
              "<Figure size 864x288 with 1 Axes>"
            ]
          },
          "metadata": {
            "needs_background": "light"
          },
          "output_type": "display_data"
        }
      ],
      "source": [
        "CS = plt.contour(X, Y, Z, levels=np.logspace(0, 30, 1), cmap='gray', alpha=0.5)\n",
        "p1 = plt.scatter(iris.data[:,0], iris.data[:,1], alpha=1, c=iris.target, cmap='Paired')\n",
        "plt.scatter(model.means_[:,0], model.means_[:,1], marker='D', c='r')\n",
        "plt.ylabel(\"Sepal width (cm)\")\n",
        "plt.xlabel(\"Sepal length (cm)\")\n",
        "plt.title(\"Dataset of Iris flowers\")\n",
        "plt.legend(handles=p1.legend_elements()[0], labels=['Iris Setosa', 'Iris Versicolour', 'Iris Virginica'])"
      ]
    },
    {
      "cell_type": "markdown",
      "metadata": {
        "id": "-CI_sZTf_Z7t"
      },
      "source": [
        "# Applications of Unsupervised Learning\n",
        "\n",
        "Unsupervised learning also has numerous applications:\n",
        "* Recommendation systems: suggesting movies on Netflix.\n",
        "* Anomaly detection: identifying factory components that are likely to break soon.\n",
        "* Signal denoising: extracting human speech from a noisy recording."
      ]
    },
    {
      "cell_type": "markdown",
      "metadata": {
        "id": "2DHIecrw_Z7t"
      },
      "source": [
        "# Reinforcement Learning\n",
        "\n",
        "In reinforcement learning, an agent is interacting with the world over time. We teach it good behavior by providing it with rewards.\n",
        "\n",
        "<center><img src=\"https://github.com/xingyushu/cornell-cs5785-2020-applied-ml/blob/main/notebooks/img/rl.png?raw=1\"/></center>\n",
        "\n",
        "<sub><sup>Image by Lily Weng</sup></sub>"
      ]
    },
    {
      "cell_type": "markdown",
      "metadata": {
        "id": "RxXTrIfX_Z7t"
      },
      "source": [
        "# Applications of Reinforcement Learning\n",
        "\n",
        "Applications of reinforcement learning include:\n",
        "* Creating agents that play games such as Chess or Go.\n",
        "* Controling the cooling systems of datacenters to use energy more efficiently.\n",
        "* Designing new drug compounds."
      ]
    },
    {
      "cell_type": "markdown",
      "metadata": {
        "id": "xhM6o_dp_Z7t"
      },
      "source": [
        "# Artificial Intelligence and Deep Learning\n",
        "\n",
        "Machine learning is often discussed in the context of these two fields.\n",
        "* AI is about building machines that exhibit intelligence.\n",
        "* ML enables machines to learn from experience, a useful tool for AI.\n",
        "* Deep learning focuses on a family of learning algorithms loosely inspired by the brain.\n",
        "<center><img width=\"50%\" src=\"https://github.com/xingyushu/cornell-cs5785-2020-applied-ml/blob/main/notebooks/img/ai_ml_dl.png?raw=1\"/></center>\n",
        "\n",
        "<sub><sup>Image [source](https://towardsdatascience.com/understanding-the-difference-between-ai-ml-and-dl-cceb63252a6c).</sup></sub>"
      ]
    },
    {
      "cell_type": "markdown",
      "metadata": {
        "id": "asdCMuLT_Z7t"
      },
      "source": [
        "<left><img width=25% src=\"https://github.com/xingyushu/cornell-cs5785-2020-applied-ml/blob/main/notebooks/img/cornell_tech2.svg?raw=1\"></left>\n",
        "# Part 3: About the Course\n",
        "\n",
        "Next, let's look at the machine learning topics that we will cover."
      ]
    },
    {
      "cell_type": "markdown",
      "metadata": {
        "id": "H2Gl4kSF_Z7t"
      },
      "source": [
        "# Teaching Approach\n",
        "\n",
        "The focus of this course is on applied machine learning.\n",
        "* We will cover a broad toolset of core algorithms from many different subfields of ML.\n",
        "* We will emphasize applications and show how to implement and apply algorithms via examples and exercises.\n",
        "\n",
        "<!-- 1. We will cover a breadth of machine learning topics. We will not focus on just one subfield, like deep learning.\n",
        "2. The focus will be on ML algorithms and why they work. All the fundamental ML algorithms will be seen.\n",
        "3. We will emphasize applications over theory. We will cover in detail how to implement and apply ML algorithms in practice. -->"
      ]
    },
    {
      "cell_type": "markdown",
      "metadata": {
        "id": "XqXupxVE_Z7t"
      },
      "source": [
        "Why are we following this approach?\n",
        "* Applying machine learning is among the most in demand industry skills right now.\n",
        "* There can be a gap between theory and practice, especially in modern machine learning.\n",
        "* Often, the best way of understanding how an algorithm works is to implement it."
      ]
    },
    {
      "cell_type": "markdown",
      "metadata": {
        "id": "MCfVaou4_Z7t"
      },
      "source": [
        "# What You Will Learn\n",
        "\n",
        "* What are the core algorithms of ML and how to define them in mathematical language.\n",
        "* How to implement algorithms from scratch as well as using ML libraries and apply them to problems in computer vision, language processing, medical analysis, and more.\n",
        "* Why machine learning algorithms work and how to use that knowledge to debug and improve them."
      ]
    },
    {
      "cell_type": "markdown",
      "metadata": {
        "id": "FoNrHzG__Z7t"
      },
      "source": [
        "# Software You Will Use\n",
        "\n",
        "You will use Python and popular machine learning libraries such as:\n",
        "  * `scikit-learn`. It implements most classical machine learning algorithms.\n",
        "  * `tensorflow`, `keras`, `pytorch`. Standard libraries for modern deep learning.\n",
        "  * `numpy`, `pandas`. Linear algebra and data processing libraries used to implement algorithms from scratch."
      ]
    },
    {
      "cell_type": "markdown",
      "metadata": {
        "id": "aHCfmczL_Z7u"
      },
      "source": [
        "# Executable Course Materials\n",
        "\n",
        "The core materials for this course (including the slides!) are created using Jupyter notebooks.\n",
        "* We are going to embed an execute code directly in the slides and use that to demonstrate algorithms.\n",
        "* These slides can be downloaded locally and all the code can be reproduced."
      ]
    },
    {
      "cell_type": "code",
      "execution_count": 2,
      "metadata": {
        "id": "oW-yhBlY_Z7u"
      },
      "outputs": [],
      "source": [
        "import numpy as np\n",
        "import matplotlib.pyplot as plt\n",
        "from sklearn import datasets, neural_network\n",
        "plt.rcParams['figure.figsize'] = [12, 4]"
      ]
    },
    {
      "cell_type": "markdown",
      "metadata": {
        "id": "G3h-mFE7_Z7u"
      },
      "source": [
        "We can use these libraries to load a simple datasets of handwritten digits."
      ]
    },
    {
      "cell_type": "code",
      "execution_count": 9,
      "metadata": {
        "id": "-0fkNt-W_Z7u",
        "outputId": "0c5233b4-c6fd-4fc7-82d0-8f2c1cc2fa62",
        "colab": {
          "base_uri": "https://localhost:8080/",
          "height": 209
        }
      },
      "outputs": [
        {
          "output_type": "display_data",
          "data": {
            "text/plain": [
              "<Figure size 864x288 with 4 Axes>"
            ],
            "image/png": "[encoded data removed]"
          },
          "metadata": {
            "needs_background": "light"
          }
        }
      ],
      "source": [
        "# https://scikit-learn.org/stable/auto_examples/classification/plot_digits_classification.html\n",
        "# load the digits dataset\n",
        "digits = datasets.load_digits()\n",
        "\n",
        "# The data that we are interested in is made of 8x8 images of digits, let's\n",
        "# have a look at the first 4 images.\n",
        "_, axes = plt.subplots(1, 4)\n",
        "images_and_labels = list(zip(digits.images, digits.target))\n",
        "for ax, (image, label) in zip(axes, images_and_labels[:4]):\n",
        "    # ax.set_axis_off()\n",
        "    ax.imshow(image, cmap=plt.cm.gray_r, interpolation='nearest')\n",
        "    ax.set_title('Label: %i' % label)"
      ]
    },
    {
      "cell_type": "markdown",
      "metadata": {
        "id": "rh1ew978_Z7u"
      },
      "source": [
        "We can now load and train this algorithm inside the slides."
      ]
    },
    {
      "cell_type": "code",
      "execution_count": 10,
      "metadata": {
        "id": "6_86K6eF_Z7u"
      },
      "outputs": [],
      "source": [
        "np.random.seed(0)\n",
        "# To apply a classifier on this data, we need to flatten the image, to\n",
        "# turn the data in a (samples, feature) matrix:\n",
        "data = digits.images.reshape((len(digits.images), -1))\n",
        "import sklearn as sk\n",
        "# create a small neural network classifier\n",
        "from sklearn.neural_network import MLPClassifier\n",
        "classifier = MLPClassifier(alpha=1e-3)\n",
        "\n",
        "# Split data into train and test subsets\n",
        "X_train, X_test, y_train, y_test = sk.model_selection.train_test_split(data, digits.target, test_size=0.5, shuffle=False)\n",
        "\n",
        "# We learn the digits on the first half of the digits\n",
        "classifier.fit(X_train, y_train)\n",
        "\n",
        "# Now predict the value of the digit on the second half:\n",
        "predicted = classifier.predict(X_test)"
      ]
    },
    {
      "cell_type": "markdown",
      "metadata": {
        "id": "YRN2Z9rj_Z7u"
      },
      "source": [
        "We can now visualize the results."
      ]
    },
    {
      "cell_type": "code",
      "execution_count": 12,
      "metadata": {
        "id": "zVd7Mg1C_Z7u",
        "outputId": "23e1d55a-ccbd-4931-b255-c2e871b13b57",
        "colab": {
          "base_uri": "https://localhost:8080/",
          "height": 209
        }
      },
      "outputs": [
        {
          "output_type": "display_data",
          "data": {
            "text/plain": [
              "<Figure size 864x288 with 4 Axes>"
            ],
            "image/png": "[encoded data removed]"
          },
          "metadata": {
            "needs_background": "light"
          }
        }
      ],
      "source": [
        "_, axes = plt.subplots(1, 4)\n",
        "images_and_predictions = list(zip(digits.images[4 // 2:], predicted))\n",
        "for ax, (image, prediction) in zip(axes, images_and_predictions[:4]):\n",
        "    ax.imshow(image, cmap=plt.cm.gray_r, interpolation='nearest')\n",
        "    ax.set_title('Prediction: %i' % prediction)"
      ]
    },
    {
      "cell_type": "markdown",
      "metadata": {
        "id": "VRX9M515_Z7v"
      },
      "source": [
        "<left><img width=25% src=\"https://github.com/xingyushu/cornell-cs5785-2020-applied-ml/blob/main/notebooks/img/cornell_tech2.svg?raw=1\"></left>\n",
        "# Part 4: Logistics and Other Information\n",
        "\n",
        "We will go over some practical bits of information."
      ]
    },
    {
      "cell_type": "markdown",
      "metadata": {
        "id": "B2KXeron_Z7v"
      },
      "source": [
        "# Course Format: Reverse Classrom\n",
        "\n",
        "The format of this course will be that of the \"reverse classroom\".\n",
        "* Pre-recorded lecture videos will be made available online ahead of time. You should watch them ahead of each weekly lecture.\n",
        "* In-class discussions will focus on answering student questions, going over homework problems, doing tutorials."
      ]
    },
    {
      "cell_type": "markdown",
      "metadata": {
        "id": "ObRDE_AN_Z7v"
      },
      "source": [
        "# Course Content\n",
        "\n",
        "The course spans about 25 lectures approximately divided up into a set of blocks:\n",
        "1. Supervised and unsupervised algorithms.\n",
        "2. Foundations of machine learning.\n",
        "4. Applying machine learning in practice.\n",
        "5. Advanced topics and guest lectures."
      ]
    },
    {
      "cell_type": "markdown",
      "metadata": {
        "id": "LpC4I_vY_Z7v"
      },
      "source": [
        "# Machine Learning Algorithms\n",
        "\n",
        "* Supervised learning algorithms: linear models and extensions, kernel machines, tree-based algorithms.\n",
        "* Unsupervised learning algorithms: density estimation, clustering, dimensionality reduction\n",
        "* Introduction to deep learning models.\n",
        "\n",
        "<!-- * Linear algorithms and their extensions.\n",
        "* Probabilistic interpretations and generative models.\n",
        "* Support vector machines and kernels.\n",
        "* Decision tress and boosting algorithms.\n",
        "* Introduction to deep learning methods. -->\n",
        "\n",
        "<!-- * Principles of unsupervised learning and density estimation.\n",
        "* Clustering algorithms. Mixture models.\n",
        "* Dimensionality reduction.\n",
        "* Probabilistic interpretations. -->"
      ]
    },
    {
      "cell_type": "markdown",
      "metadata": {
        "id": "2RIauhXh_Z7v"
      },
      "source": [
        "# Foundations of Machine Learning\n",
        "\n",
        "* The basic language of machine learning: datasets, features, models, objective functions.\n",
        "* Tools for machine learning: optimization, probability, linear algebra. \n",
        "* Why do algorithms work in practice? Probabilistic and statistical foundations."
      ]
    },
    {
      "cell_type": "markdown",
      "metadata": {
        "id": "DB-dgd0o_Z7v"
      },
      "source": [
        "# Applying Machine Learning\n",
        "\n",
        "* Evaluating machine learning algorithms.\n",
        "* Diagnosing and debugging performance.\n",
        "* Analyzing errors and improving models.\n",
        "* Deploying and debugging pipelines."
      ]
    },
    {
      "cell_type": "markdown",
      "metadata": {
        "id": "23pdFtq9_Z7v"
      },
      "source": [
        "# Advanced Machine Learning Topics\n",
        "\n",
        "* Introduction to reinforcement learning\n",
        "* Guest lectures from industry"
      ]
    },
    {
      "cell_type": "markdown",
      "metadata": {
        "id": "LPOV7_rp_Z7v"
      },
      "source": [
        "# Course Assignments\n",
        "\n",
        "There are two main types of assignments.\n",
        "1. Supervised and unsupervised algorithms.\n",
        "2. Foundations of machine learning.\n",
        "4. Applying machine learning in practice.\n",
        "5. Advanced topics and guest lectures."
      ]
    },
    {
      "cell_type": "markdown",
      "metadata": {
        "id": "1iGagVwf_Z7v"
      },
      "source": [
        "# Prerequisites. Is This Course For You?\n",
        "\n",
        "This course is designed to aimed at a very general technical audience. Main requirements are:\n",
        "* Programming experience (at least 1 year), preferably in Python.\n",
        "* College-level linear algebra. Matrix operations, the SVD decomposition, etc.\n",
        "* College-level probability. Probability distributions, random variables, Bayes' rule, etc."
      ]
    },
    {
      "cell_type": "markdown",
      "metadata": {
        "id": "7Pz7ISwg_Z7v"
      },
      "source": [
        "# Other Logistics\n",
        "\n",
        "* The majority of course materials will be accessible online.\n",
        "* Grading will be based on a combination of homework assignments and course projects. See website for more details.\n",
        "* There is no required textbook, but we recommend Elements of Statistical Learning by Hastie, Tibshirani, and Friedman."
      ]
    },
    {
      "cell_type": "markdown",
      "metadata": {
        "id": "JfAWjRFn_Z7v"
      },
      "source": [
        "### Again, Welcome to Applied Machine Learning!\n",
        "<left><img width=25% src=\"https://github.com/xingyushu/cornell-cs5785-2020-applied-ml/blob/main/notebooks/img/cornell_tech2.svg?raw=1\"></left>"
      ]
    }
  ],
  "metadata": {
    "accelerator": "GPU",
    "celltoolbar": "Slideshow",
    "colab": {
      "name": "neural-ode.ipynb",
      "provenance": []
    },
    "kernelspec": {
      "display_name": "aml",
      "language": "python",
      "name": "aml"
    },
    "language_info": {
      "codemirror_mode": {
        "name": "ipython",
        "version": 3
      },
      "file_extension": ".py",
      "mimetype": "text/x-python",
      "name": "python",
      "nbconvert_exporter": "python",
      "pygments_lexer": "ipython3",
      "version": "3.6.7"
    },
    "rise": {
      "controlsTutorial": false,
      "height": 900,
      "help": false,
      "margin": 0,
      "maxScale": 2,
      "minScale": 0.2,
      "progress": true,
      "scroll": true,
      "theme": "simple",
      "width": 1200
    },
    "gpuClass": "standard"
  },
  "nbformat": 4,
  "nbformat_minor": 0
}