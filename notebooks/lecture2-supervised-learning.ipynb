{
  "cells": [
    {
      "cell_type": "markdown",
      "metadata": {
        "id": "i_f5u2x9nn6I"
      },
      "source": [
        "<left><img width=25% src=\"https://github.com/xingyushu/cornell-cs5785-2020-applied-ml/blob/main/notebooks/img/cornell_tech2.svg?raw=1\"></left>\n",
        "\n",
        "# Lecture 2: Supervised Machine Learning\n",
        "\n",
        "### Applied Machine Learning\n",
        "\n",
        "__Volodymyr Kuleshov__<br>Cornell Tech"
      ]
    },
    {
      "cell_type": "markdown",
      "metadata": {
        "id": "TxHzHUBUSeB-"
      },
      "source": [
        "# Recall: Supervised Learning\n",
        "\n",
        "The most common approach to machine learning is supervised learning.\n",
        "\n",
        "<center><img width=70% src=\"https://github.com/xingyushu/cornell-cs5785-2020-applied-ml/blob/main/notebooks/img/tesla_data.png?raw=1\"/></center>\n",
        "\n",
        "1. First, we collect a dataset of labeled training examples.\n",
        "2. We train a model to output accurate predictions on this dataset.\n",
        "3. When the model sees new, similar data, it will also be accurate."
      ]
    },
    {
      "cell_type": "markdown",
      "metadata": {
        "id": "AzqAF6gLSeB-"
      },
      "source": [
        "# Part 1: A First Supervised Machine Learning Problem\n",
        "\n",
        "Let’s start with a simple example of a supervised learning problem: predicting diabetes risk.\n",
        "\n",
        "Suppose we have a dataset of diabetes patients. \n",
        "* For each patient we have a access to measurements from their medical record and an estimate of diabetes risk.\n",
        "* We are interested in understanding how the measurements affect an individual's diabetes risk."
      ]
    },
    {
      "cell_type": "markdown",
      "metadata": {
        "id": "fiF-RpYQSeCD"
      },
      "source": [
        "# Three Components of A Supervised Machine Learning Problem\n",
        "\n",
        "At a high level, a supervised machine learning problem has the following structure:\n",
        "\n",
        "$$ \\text{Dataset} + \\text{Algorithm} \\to \\text{Predictive Model} $$\n",
        "\n",
        "The predictive model is chosen to model the relationship between inputs and targets. For instance, it can predict future targets."
      ]
    },
    {
      "cell_type": "markdown",
      "metadata": {
        "id": "SRtn7j6vSeCE"
      },
      "source": [
        "# A Supervised Learning Dataset\n",
        "\n",
        "Let's return to our example: predicting diabates risk. What would a dataset look like?\n",
        "\n",
        "We will use the UCI Diabetes Dataset; it's a toy dataset that's often used to demonstrate machine learning algorithms.\n",
        "* For each patient we have a access to a measurement of their body mass index (BMI) and a quantiative diabetes risk score (from 0-400). \n",
        "* We are interested in understanding how BMI affects an individual's diabetes risk."
      ]
    },
    {
      "cell_type": "code",
      "execution_count": 29,
      "metadata": {
        "id": "797yO65OSeCE",
        "outputId": "30077d2a-b445-43d1-a994-ad07b0265ec6",
        "colab": {
          "base_uri": "https://localhost:8080/",
          "height": 206
        }
      },
      "outputs": [
        {
          "output_type": "execute_result",
          "data": {
            "text/plain": [
              "           bmi  target\n",
              "422  27.335902   233.0\n",
              "423  23.811456    91.0\n",
              "424  25.331171   111.0\n",
              "425  23.779122   152.0\n",
              "426  23.973128   120.0"
            ],
            "text/html": [
              "\n",
              "  <div id=\"df-a0fc63f6-7040-4e3f-a8e3-81e103889144\">\n",
              "    <div class=\"colab-df-container\">\n",
              "      <div>\n",
              "<style scoped>\n",
              "    .dataframe tbody tr th:only-of-type {\n",
              "        vertical-align: middle;\n",
              "    }\n",
              "\n",
              "    .dataframe tbody tr th {\n",
              "        vertical-align: top;\n",
              "    }\n",
              "\n",
              "    .dataframe thead th {\n",
              "        text-align: right;\n",
              "    }\n",
              "</style>\n",
              "<table border=\"1\" class=\"dataframe\">\n",
              "  <thead>\n",
              "    <tr style=\"text-align: right;\">\n",
              "      <th></th>\n",
              "      <th>bmi</th>\n",
              "      <th>target</th>\n",
              "    </tr>\n",
              "  </thead>\n",
              "  <tbody>\n",
              "    <tr>\n",
              "      <th>422</th>\n",
              "      <td>27.335902</td>\n",
              "      <td>233.0</td>\n",
              "    </tr>\n",
              "    <tr>\n",
              "      <th>423</th>\n",
              "      <td>23.811456</td>\n",
              "      <td>91.0</td>\n",
              "    </tr>\n",
              "    <tr>\n",
              "      <th>424</th>\n",
              "      <td>25.331171</td>\n",
              "      <td>111.0</td>\n",
              "    </tr>\n",
              "    <tr>\n",
              "      <th>425</th>\n",
              "      <td>23.779122</td>\n",
              "      <td>152.0</td>\n",
              "    </tr>\n",
              "    <tr>\n",
              "      <th>426</th>\n",
              "      <td>23.973128</td>\n",
              "      <td>120.0</td>\n",
              "    </tr>\n",
              "  </tbody>\n",
              "</table>\n",
              "</div>\n",
              "      <button class=\"colab-df-convert\" onclick=\"convertToInteractive('df-a0fc63f6-7040-4e3f-a8e3-81e103889144')\"\n",
              "              title=\"Convert this dataframe to an interactive table.\"\n",
              "              style=\"display:none;\">\n",
              "        \n",
              "  <svg xmlns=\"http://www.w3.org/2000/svg\" height=\"24px\"viewBox=\"0 0 24 24\"\n",
              "       width=\"24px\">\n",
              "    <path d=\"M0 0h24v24H0V0z\" fill=\"none\"/>\n",
              "    <path d=\"M18.56 5.44l.94 2.06.94-2.06 2.06-.94-2.06-.94-.94-2.06-.94 2.06-2.06.94zm-11 1L8.5 8.5l.94-2.06 2.06-.94-2.06-.94L8.5 2.5l-.94 2.06-2.06.94zm10 10l.94 2.06.94-2.06 2.06-.94-2.06-.94-.94-2.06-.94 2.06-2.06.94z\"/><path d=\"M17.41 7.96l-1.37-1.37c-.4-.4-.92-.59-1.43-.59-.52 0-1.04.2-1.43.59L10.3 9.45l-7.72 7.72c-.78.78-.78 2.05 0 2.83L4 21.41c.39.39.9.59 1.41.59.51 0 1.02-.2 1.41-.59l7.78-7.78 2.81-2.81c.8-.78.8-2.07 0-2.86zM5.41 20L4 18.59l7.72-7.72 1.47 1.35L5.41 20z\"/>\n",
              "  </svg>\n",
              "      </button>\n",
              "      \n",
              "  <style>\n",
              "    .colab-df-container {\n",
              "      display:flex;\n",
              "      flex-wrap:wrap;\n",
              "      gap: 12px;\n",
              "    }\n",
              "\n",
              "    .colab-df-convert {\n",
              "      background-color: #E8F0FE;\n",
              "      border: none;\n",
              "      border-radius: 50%;\n",
              "      cursor: pointer;\n",
              "      display: none;\n",
              "      fill: #1967D2;\n",
              "      height: 32px;\n",
              "      padding: 0 0 0 0;\n",
              "      width: 32px;\n",
              "    }\n",
              "\n",
              "    .colab-df-convert:hover {\n",
              "      background-color: #E2EBFA;\n",
              "      box-shadow: 0px 1px 2px rgba(60, 64, 67, 0.3), 0px 1px 3px 1px rgba(60, 64, 67, 0.15);\n",
              "      fill: #174EA6;\n",
              "    }\n",
              "\n",
              "    [theme=dark] .colab-df-convert {\n",
              "      background-color: #3B4455;\n",
              "      fill: #D2E3FC;\n",
              "    }\n",
              "\n",
              "    [theme=dark] .colab-df-convert:hover {\n",
              "      background-color: #434B5C;\n",
              "      box-shadow: 0px 1px 3px 1px rgba(0, 0, 0, 0.15);\n",
              "      filter: drop-shadow(0px 1px 2px rgba(0, 0, 0, 0.3));\n",
              "      fill: #FFFFFF;\n",
              "    }\n",
              "  </style>\n",
              "\n",
              "      <script>\n",
              "        const buttonEl =\n",
              "          document.querySelector('#df-a0fc63f6-7040-4e3f-a8e3-81e103889144 button.colab-df-convert');\n",
              "        buttonEl.style.display =\n",
              "          google.colab.kernel.accessAllowed ? 'block' : 'none';\n",
              "\n",
              "        async function convertToInteractive(key) {\n",
              "          const element = document.querySelector('#df-a0fc63f6-7040-4e3f-a8e3-81e103889144');\n",
              "          const dataTable =\n",
              "            await google.colab.kernel.invokeFunction('convertToInteractive',\n",
              "                                                     [key], {});\n",
              "          if (!dataTable) return;\n",
              "\n",
              "          const docLinkHtml = 'Like what you see? Visit the ' +\n",
              "            '<a target=\"_blank\" href=https://colab.research.google.com/notebooks/data_table.ipynb>data table notebook</a>'\n",
              "            + ' to learn more about interactive tables.';\n",
              "          element.innerHTML = '';\n",
              "          dataTable['output_type'] = 'display_data';\n",
              "          await google.colab.output.renderOutput(dataTable, element);\n",
              "          const docLink = document.createElement('div');\n",
              "          docLink.innerHTML = docLinkHtml;\n",
              "          element.appendChild(docLink);\n",
              "        }\n",
              "      </script>\n",
              "    </div>\n",
              "  </div>\n",
              "  "
            ]
          },
          "metadata": {},
          "execution_count": 29
        }
      ],
      "source": [
        "import numpy as np\n",
        "import pandas as pd\n",
        "from sklearn import datasets\n",
        "\n",
        "# Load the diabetes dataset\n",
        "diabetes_X, diabetes_y = datasets.load_diabetes(return_X_y=True, as_frame=True)\n",
        "\n",
        "# Use only the BMI feature\n",
        "diabetes_X = diabetes_X.loc[:, ['bmi']]\n",
        "\n",
        "# The BMI is zero-centered and normalized; we recenter it for ease of presentation\n",
        "diabetes_X = diabetes_X * 30 + 25\n",
        "\n",
        "# Collect 20 data points\n",
        "diabetes_X_train = diabetes_X.iloc[-20:]\n",
        "diabetes_y_train = diabetes_y.iloc[-20:]\n",
        "\n",
        "# Display some of the data points\n",
        "pd.concat([diabetes_X_train, diabetes_y_train], axis=1).head()\n",
        "\n",
        "# two-factor classification"
      ]
    },
    {
      "cell_type": "markdown",
      "metadata": {
        "id": "sdUI989ISeCE"
      },
      "source": [
        "We can also visualize this two-dimensional dataset."
      ]
    },
    {
      "cell_type": "code",
      "execution_count": 2,
      "metadata": {
        "id": "vUNxEUtUSeCE",
        "outputId": "2d1c8185-151c-43ac-e2f7-e7fb4d37fe56",
        "colab": {
          "base_uri": "https://localhost:8080/",
          "height": 297
        }
      },
      "outputs": [
        {
          "output_type": "execute_result",
          "data": {
            "text/plain": [
              "Text(0, 0.5, 'Diabetes Risk')"
            ]
          },
          "metadata": {},
          "execution_count": 2
        },
        {
          "output_type": "display_data",
          "data": {
            "text/plain": [
              "<Figure size 864x288 with 1 Axes>"
            ],
            "image/png": "[encoded data removed]"
          },
          "metadata": {
            "needs_background": "light"
          }
        }
      ],
      "source": [
        "%matplotlib inline\n",
        "import matplotlib.pyplot as plt\n",
        "plt.rcParams['figure.figsize'] = [12, 4]\n",
        "\n",
        "plt.scatter(diabetes_X_train, diabetes_y_train,  color='black')\n",
        "plt.xlabel('Body Mass Index (BMI)')\n",
        "plt.ylabel('Diabetes Risk')"
      ]
    },
    {
      "cell_type": "markdown",
      "metadata": {
        "id": "UMe9qt__SeCF"
      },
      "source": [
        "# A Supervised Learning Algorithm (Part 1)\n",
        "\n",
        "What is the relationship between BMI and diabetes risk?\n",
        "\n",
        "We could assume that risk is a linear function of BMI. In other words, for some unknown $\\theta_0, \\theta_1 \\in \\mathbb{R}$, we have\n",
        "$$ y = \\theta_1 \\cdot x + \\theta_0, $$\n",
        "where $x$ is the BMI (also called the dependent variable), and $y$ is the diabetes risk score (the independent variable). \n",
        "\n",
        "Note that $\\theta_1, \\theta_0$ are the slope and the intercept of the line relates $x$ to $y$. We call them *parameters*."
      ]
    },
    {
      "cell_type": "markdown",
      "metadata": {
        "id": "h3HHPRxrSeCF"
      },
      "source": [
        "We can visualize this for a few values of $\\theta_1, \\theta_0$."
      ]
    },
    {
      "cell_type": "code",
      "execution_count": 5,
      "metadata": {
        "id": "4-OPNvjFSeCF",
        "outputId": "decd233b-55f1-45b8-ba1c-e253683e8148",
        "colab": {
          "base_uri": "https://localhost:8080/",
          "height": 265
        }
      },
      "outputs": [
        {
          "output_type": "display_data",
          "data": {
            "text/plain": [
              "<Figure size 864x288 with 1 Axes>"
            ],
            "image/png": "[encoded data removed]"
          },
          "metadata": {
            "needs_background": "light"
          }
        }
      ],
      "source": [
        "theta_list = [(1, 2), (2,1), (1,0), (0,1)]\n",
        "for theta0, theta1 in theta_list:\n",
        "    x = np.arange(10)\n",
        "    y = theta1 * x + theta0\n",
        "    plt.plot(x,y)"
      ]
    },
    {
      "cell_type": "markdown",
      "metadata": {
        "id": "pjrilHt7SeCF"
      },
      "source": [
        "# A Supervised Learning Algorithm (Part 2)\n",
        "\n",
        "Assuming that $x,y$ follow the above linear relationship, the goal of the __supervised learning algorithm__ is to find a good set of parameters consistent with the data."
      ]
    },
    {
      "cell_type": "markdown",
      "metadata": {
        "id": "qvXE-O0aSeCF"
      },
      "source": [
        "We will see many algorithms for this task. For now, let's call the `sklearn.linear_model` library to find a $\\theta_1, \\theta_0$ that fit the data well."
      ]
    },
    {
      "cell_type": "code",
      "execution_count": 6,
      "metadata": {
        "id": "H7FTDQ2ZSeCF",
        "outputId": "e23b7708-2db2-402a-c818-ca2bdd9ae310",
        "colab": {
          "base_uri": "https://localhost:8080/"
        }
      },
      "outputs": [
        {
          "output_type": "stream",
          "name": "stdout",
          "text": [
            "Slope (theta1): \t 37.378842160517664\n",
            "Intercept (theta0): \t -797.0817390342369\n"
          ]
        }
      ],
      "source": [
        "from sklearn import linear_model\n",
        "from sklearn.metrics import mean_squared_error\n",
        "\n",
        "# Create linear regression object\n",
        "regr = linear_model.LinearRegression()\n",
        "\n",
        "# Train the model using the training sets\n",
        "regr.fit(diabetes_X_train, diabetes_y_train.values)\n",
        "\n",
        "# Make predictions on the training set\n",
        "diabetes_y_train_pred = regr.predict(diabetes_X_train)\n",
        "\n",
        "# The coefficients\n",
        "print('Slope (theta1): \\t', regr.coef_[0])\n",
        "print('Intercept (theta0): \\t', regr.intercept_)"
      ]
    },
    {
      "cell_type": "markdown",
      "metadata": {
        "id": "bPa__jAgSeCF"
      },
      "source": [
        "# A Supervised Learning Model\n",
        "\n",
        "The supervised learning algorithm gave us a pair of parameters $\\theta_1^*, \\theta_0^*$. These define the *predictive model* $f^*$, defined as\n",
        "$$ f(x) = \\theta_1^* \\cdot x + \\theta_0^*, $$\n",
        "where again $x$ is the BMI, and $y$ is the diabetes risk score."
      ]
    },
    {
      "cell_type": "markdown",
      "metadata": {
        "id": "k59_taGfnn6K"
      },
      "source": [
        "We can visualize the linear model that fits our data."
      ]
    },
    {
      "cell_type": "code",
      "execution_count": 7,
      "metadata": {
        "id": "ETM49X1tSeCF",
        "outputId": "db9affce-d85d-44b8-9a6c-966269b0516d",
        "colab": {
          "base_uri": "https://localhost:8080/",
          "height": 297
        }
      },
      "outputs": [
        {
          "output_type": "execute_result",
          "data": {
            "text/plain": [
              "[<matplotlib.lines.Line2D at 0x7f3cfbad4670>]"
            ]
          },
          "metadata": {},
          "execution_count": 7
        },
        {
          "output_type": "display_data",
          "data": {
            "text/plain": [
              "<Figure size 864x288 with 1 Axes>"
            ],
            "image/png": "[encoded data removed]"
          },
          "metadata": {
            "needs_background": "light"
          }
        }
      ],
      "source": [
        "plt.xlabel('Body Mass Index (BMI)')\n",
        "plt.ylabel('Diabetes Risk')\n",
        "plt.scatter(diabetes_X_train, diabetes_y_train)\n",
        "plt.plot(diabetes_X_train, diabetes_y_train_pred, color='black', linewidth=2)"
      ]
    },
    {
      "cell_type": "markdown",
      "metadata": {
        "id": "ivQev0FpSeCF"
      },
      "source": [
        "# Predictions Using Supervised Learning\n",
        "\n",
        "Given a new dataset of patients with a known BMI, we can use this model to estimate their diabetes risk.\n",
        "\n",
        "Given a new $x'$, we can output a predicted $y'$ as\n",
        "$$ y' = f(x') = \\theta_1^* \\cdot x' + \\theta_0. $$"
      ]
    },
    {
      "cell_type": "markdown",
      "metadata": {
        "id": "cahbxoGQSeCG"
      },
      "source": [
        "Let's start by loading more data. We will load three new patients (shown in red below) that we haven't seen before."
      ]
    },
    {
      "cell_type": "code",
      "execution_count": 8,
      "metadata": {
        "id": "CsWtlLZNSeCG",
        "outputId": "75052400-042d-4895-c80f-4e56e42cbef6",
        "colab": {
          "base_uri": "https://localhost:8080/",
          "height": 297
        }
      },
      "outputs": [
        {
          "output_type": "execute_result",
          "data": {
            "text/plain": [
              "<matplotlib.legend.Legend at 0x7f3cfba2fee0>"
            ]
          },
          "metadata": {},
          "execution_count": 8
        },
        {
          "output_type": "display_data",
          "data": {
            "text/plain": [
              "<Figure size 864x288 with 1 Axes>"
            ],
            "image/png": "[encoded data removed]"
          },
          "metadata": {
            "needs_background": "light"
          }
        }
      ],
      "source": [
        "# Collect 3 data points\n",
        "diabetes_X_test = diabetes_X.iloc[:3]\n",
        "diabetes_y_test = diabetes_y.iloc[:3]\n",
        "\n",
        "plt.scatter(diabetes_X_train, diabetes_y_train)\n",
        "plt.scatter(diabetes_X_test, diabetes_y_test,  color='red')\n",
        "plt.xlabel('Body Mass Index (BMI)')\n",
        "plt.ylabel('Diabetes Risk')\n",
        "plt.legend(['Initial patients', 'New patients'])"
      ]
    },
    {
      "cell_type": "markdown",
      "metadata": {
        "id": "xRhrKoRQSeCG"
      },
      "source": [
        "Our linear model provides an estimate of the diabetes risk for these patients."
      ]
    },
    {
      "cell_type": "code",
      "execution_count": 10,
      "metadata": {
        "id": "Dr0tzVlhSeCG",
        "outputId": "5acde409-1929-4779-aa74-896fc8ca68e5",
        "colab": {
          "base_uri": "https://localhost:8080/",
          "height": 297
        }
      },
      "outputs": [
        {
          "output_type": "execute_result",
          "data": {
            "text/plain": [
              "<matplotlib.legend.Legend at 0x7f3cfb9c6670>"
            ]
          },
          "metadata": {},
          "execution_count": 10
        },
        {
          "output_type": "display_data",
          "data": {
            "text/plain": [
              "<Figure size 864x288 with 1 Axes>"
            ],
            "image/png": "[encoded data removed]"
          },
          "metadata": {
            "needs_background": "light"
          }
        }
      ],
      "source": [
        "# generate predictions on the new patients\n",
        "diabetes_y_test_pred = regr.predict(diabetes_X_test)\n",
        "\n",
        "# visualize the results\n",
        "plt.xlabel('Body Mass Index (BMI)')\n",
        "plt.ylabel('Diabetes Risk')\n",
        "plt.scatter(diabetes_X_train, diabetes_y_train)\n",
        "plt.scatter(diabetes_X_test, diabetes_y_test, color='red', marker='o')\n",
        "plt.plot(diabetes_X_train, diabetes_y_train_pred, color='black', linewidth=1)\n",
        "plt.plot(diabetes_X_test, diabetes_y_test_pred, 'x', color='red', mew=3, markersize=8)\n",
        "plt.legend(['Model', 'Prediction', 'Initial patients', 'New patients'])"
      ]
    },
    {
      "cell_type": "markdown",
      "metadata": {
        "id": "fkm9FvHDSeCG"
      },
      "source": [
        "# Why Supervised Learning?\n",
        "\n",
        "Supervised learning can be useful in many ways.\n",
        "* Making predictions on new data.\n",
        "* Understanding the mechanisms through which input variables affect targets."
      ]
    },
    {
      "cell_type": "markdown",
      "metadata": {
        "id": "hlR2sE6vSeCG"
      },
      "source": [
        "# Applications of Supervised Learning\n",
        "\n",
        "Many of the most important applications of machine learning are supervised:\n",
        "* Classifying medical images.\n",
        "* Translating between pairs of languages.\n",
        "* Detecting objects in a self-driving car."
      ]
    },
    {
      "cell_type": "markdown",
      "metadata": {
        "id": "e-kICk4zSeCG"
      },
      "source": [
        "<left><img width=25% src=\"https://github.com/xingyushu/cornell-cs5785-2020-applied-ml/blob/main/notebooks/img/cornell_tech2.svg?raw=1\"></left>\n",
        "# Part 2: Anatomy of a Supervised Learning Problem: Datasets\n",
        "\n",
        "We have seen a simple example of a supervised machine learning problem and an algorithm for solving this problem.\n",
        "\n",
        "Let's now look at what a general supervised learning problem looks like."
      ]
    },
    {
      "cell_type": "markdown",
      "metadata": {
        "id": "YEONo-NaSeCG"
      },
      "source": [
        "# Recall: Three Components of A Supervised Machine Learning Problem\n",
        "\n",
        "At a high level, a supervised machine learning problem has the following structure:\n",
        "\n",
        "$$ \\text{Dataset} + \\text{Algorithm} \\to \\text{Predictive Model} $$\n",
        "\n",
        "The predictive model is chosen to model the relationship between inputs and targets. For instance, it can predict future targets."
      ]
    },
    {
      "cell_type": "markdown",
      "metadata": {
        "id": "cE7d7x9qSeCG"
      },
      "source": [
        "# A Supervised Learning Dataset\n",
        "\n",
        "We are going to dive deeper into what's a supervised learning dataset. As an example, consider the full version of the UCI Diabetes Dataset seen earlier.\n",
        "\n",
        "Previsouly, we only looked at the patients' BMI, but this dataset actually records many additional measurements."
      ]
    },
    {
      "cell_type": "markdown",
      "metadata": {
        "id": "CLIHWOkaSeCG"
      },
      "source": [
        "The UCI dataset contains many additional data columns besides `bmi`, including age, sex, and blood pressure. We can ask `sklearn` to give us more information about this dataset."
      ]
    },
    {
      "cell_type": "code",
      "execution_count": 11,
      "metadata": {
        "id": "pziO2andSeCG",
        "outputId": "bb4e480d-392f-4848-dc94-b0f60f1c06f1",
        "colab": {
          "base_uri": "https://localhost:8080/"
        }
      },
      "outputs": [
        {
          "output_type": "stream",
          "name": "stdout",
          "text": [
            ".. _diabetes_dataset:\n",
            "\n",
            "Diabetes dataset\n",
            "----------------\n",
            "\n",
            "Ten baseline variables, age, sex, body mass index, average blood\n",
            "pressure, and six blood serum measurements were obtained for each of n =\n",
            "442 diabetes patients, as well as the response of interest, a\n",
            "quantitative measure of disease progression one year after baseline.\n",
            "\n",
            "**Data Set Characteristics:**\n",
            "\n",
            "  :Number of Instances: 442\n",
            "\n",
            "  :Number of Attributes: First 10 columns are numeric predictive values\n",
            "\n",
            "  :Target: Column 11 is a quantitative measure of disease progression one year after baseline\n",
            "\n",
            "  :Attribute Information:\n",
            "      - age     age in years\n",
            "      - sex\n",
            "      - bmi     body mass index\n",
            "      - bp      average blood pressure\n",
            "      - s1      tc, total serum cholesterol\n",
            "      - s2      ldl, low-density lipoproteins\n",
            "      - s3      hdl, high-density lipoproteins\n",
            "      - s4      tch, total cholesterol / HDL\n",
            "      - s5      ltg, possibly log of serum triglycerides level\n",
            "      - s6      glu, blood sugar level\n",
            "\n",
            "Note: Each of these 10 feature variables have been mean centered and scaled by the standard deviation times `n_samples` (i.e. the sum of squares of each column totals 1).\n",
            "\n",
            "Source URL:\n",
            "https://www4.stat.ncsu.edu/~boos/var.select/diabetes.html\n",
            "\n",
            "For more information see:\n",
            "Bradley Efron, Trevor Hastie, Iain Johnstone and Robert Tibshirani (2004) \"Least Angle Regression,\" Annals of Statistics (with discussion), 407-499.\n",
            "(https://web.stanford.edu/~hastie/Papers/LARS/LeastAngle_2002.pdf)\n"
          ]
        }
      ],
      "source": [
        "import numpy as np\n",
        "import pandas as pd\n",
        "import matplotlib.pyplot as plt\n",
        "plt.rcParams['figure.figsize'] = [12, 4]\n",
        "from sklearn import datasets\n",
        "\n",
        "# Load the diabetes dataset\n",
        "diabetes = datasets.load_diabetes(as_frame=True)\n",
        "print(diabetes.DESCR)"
      ]
    },
    {
      "cell_type": "markdown",
      "metadata": {
        "id": "qM8qhfYKSeCG"
      },
      "source": [
        "# A Supervised Learning Dataset: Notation\n",
        "\n",
        "We say that a training dataset of size $n$ (e.g., $n$ patients) is a set\n",
        "$$\\mathcal{D} = \\{(x^{(i)}, y^{(i)}) \\mid i = 1,2,...,n\\}$$\n",
        "\n",
        "Each $x^{(i)}$ denotes an input (e.g., the measurements for patient $i$), and each $y^{(i)} \\in \\mathcal{Y}$ is a target (e.g., the diabetes risk). \n",
        "\n",
        "Together, $(x^{(i)}, y^{(i)})$ form a *training example*."
      ]
    },
    {
      "cell_type": "markdown",
      "metadata": {
        "id": "IEiOLsIUSeCG"
      },
      "source": [
        "We can look at the diabetes dataset in this form."
      ]
    },
    {
      "cell_type": "code",
      "execution_count": 12,
      "metadata": {
        "id": "8s0LDGkFSeCG",
        "outputId": "faf785c0-4744-45c9-91d7-83b35cacc015",
        "colab": {
          "base_uri": "https://localhost:8080/",
          "height": 206
        }
      },
      "outputs": [
        {
          "output_type": "execute_result",
          "data": {
            "text/plain": [
              "        age       sex       bmi        bp        s1        s2        s3  \\\n",
              "0  0.038076  0.050680  0.061696  0.021872 -0.044223 -0.034821 -0.043401   \n",
              "1 -0.001882 -0.044642 -0.051474 -0.026328 -0.008449 -0.019163  0.074412   \n",
              "2  0.085299  0.050680  0.044451 -0.005671 -0.045599 -0.034194 -0.032356   \n",
              "3 -0.089063 -0.044642 -0.011595 -0.036656  0.012191  0.024991 -0.036038   \n",
              "4  0.005383 -0.044642 -0.036385  0.021872  0.003935  0.015596  0.008142   \n",
              "\n",
              "         s4        s5        s6  \n",
              "0 -0.002592  0.019908 -0.017646  \n",
              "1 -0.039493 -0.068330 -0.092204  \n",
              "2 -0.002592  0.002864 -0.025930  \n",
              "3  0.034309  0.022692 -0.009362  \n",
              "4 -0.002592 -0.031991 -0.046641  "
            ],
            "text/html": [
              "\n",
              "  <div id=\"df-9d02961e-b791-4246-a28c-0c9108fb664b\">\n",
              "    <div class=\"colab-df-container\">\n",
              "      <div>\n",
              "<style scoped>\n",
              "    .dataframe tbody tr th:only-of-type {\n",
              "        vertical-align: middle;\n",
              "    }\n",
              "\n",
              "    .dataframe tbody tr th {\n",
              "        vertical-align: top;\n",
              "    }\n",
              "\n",
              "    .dataframe thead th {\n",
              "        text-align: right;\n",
              "    }\n",
              "</style>\n",
              "<table border=\"1\" class=\"dataframe\">\n",
              "  <thead>\n",
              "    <tr style=\"text-align: right;\">\n",
              "      <th></th>\n",
              "      <th>age</th>\n",
              "      <th>sex</th>\n",
              "      <th>bmi</th>\n",
              "      <th>bp</th>\n",
              "      <th>s1</th>\n",
              "      <th>s2</th>\n",
              "      <th>s3</th>\n",
              "      <th>s4</th>\n",
              "      <th>s5</th>\n",
              "      <th>s6</th>\n",
              "    </tr>\n",
              "  </thead>\n",
              "  <tbody>\n",
              "    <tr>\n",
              "      <th>0</th>\n",
              "      <td>0.038076</td>\n",
              "      <td>0.050680</td>\n",
              "      <td>0.061696</td>\n",
              "      <td>0.021872</td>\n",
              "      <td>-0.044223</td>\n",
              "      <td>-0.034821</td>\n",
              "      <td>-0.043401</td>\n",
              "      <td>-0.002592</td>\n",
              "      <td>0.019908</td>\n",
              "      <td>-0.017646</td>\n",
              "    </tr>\n",
              "    <tr>\n",
              "      <th>1</th>\n",
              "      <td>-0.001882</td>\n",
              "      <td>-0.044642</td>\n",
              "      <td>-0.051474</td>\n",
              "      <td>-0.026328</td>\n",
              "      <td>-0.008449</td>\n",
              "      <td>-0.019163</td>\n",
              "      <td>0.074412</td>\n",
              "      <td>-0.039493</td>\n",
              "      <td>-0.068330</td>\n",
              "      <td>-0.092204</td>\n",
              "    </tr>\n",
              "    <tr>\n",
              "      <th>2</th>\n",
              "      <td>0.085299</td>\n",
              "      <td>0.050680</td>\n",
              "      <td>0.044451</td>\n",
              "      <td>-0.005671</td>\n",
              "      <td>-0.045599</td>\n",
              "      <td>-0.034194</td>\n",
              "      <td>-0.032356</td>\n",
              "      <td>-0.002592</td>\n",
              "      <td>0.002864</td>\n",
              "      <td>-0.025930</td>\n",
              "    </tr>\n",
              "    <tr>\n",
              "      <th>3</th>\n",
              "      <td>-0.089063</td>\n",
              "      <td>-0.044642</td>\n",
              "      <td>-0.011595</td>\n",
              "      <td>-0.036656</td>\n",
              "      <td>0.012191</td>\n",
              "      <td>0.024991</td>\n",
              "      <td>-0.036038</td>\n",
              "      <td>0.034309</td>\n",
              "      <td>0.022692</td>\n",
              "      <td>-0.009362</td>\n",
              "    </tr>\n",
              "    <tr>\n",
              "      <th>4</th>\n",
              "      <td>0.005383</td>\n",
              "      <td>-0.044642</td>\n",
              "      <td>-0.036385</td>\n",
              "      <td>0.021872</td>\n",
              "      <td>0.003935</td>\n",
              "      <td>0.015596</td>\n",
              "      <td>0.008142</td>\n",
              "      <td>-0.002592</td>\n",
              "      <td>-0.031991</td>\n",
              "      <td>-0.046641</td>\n",
              "    </tr>\n",
              "  </tbody>\n",
              "</table>\n",
              "</div>\n",
              "      <button class=\"colab-df-convert\" onclick=\"convertToInteractive('df-9d02961e-b791-4246-a28c-0c9108fb664b')\"\n",
              "              title=\"Convert this dataframe to an interactive table.\"\n",
              "              style=\"display:none;\">\n",
              "        \n",
              "  <svg xmlns=\"http://www.w3.org/2000/svg\" height=\"24px\"viewBox=\"0 0 24 24\"\n",
              "       width=\"24px\">\n",
              "    <path d=\"M0 0h24v24H0V0z\" fill=\"none\"/>\n",
              "    <path d=\"M18.56 5.44l.94 2.06.94-2.06 2.06-.94-2.06-.94-.94-2.06-.94 2.06-2.06.94zm-11 1L8.5 8.5l.94-2.06 2.06-.94-2.06-.94L8.5 2.5l-.94 2.06-2.06.94zm10 10l.94 2.06.94-2.06 2.06-.94-2.06-.94-.94-2.06-.94 2.06-2.06.94z\"/><path d=\"M17.41 7.96l-1.37-1.37c-.4-.4-.92-.59-1.43-.59-.52 0-1.04.2-1.43.59L10.3 9.45l-7.72 7.72c-.78.78-.78 2.05 0 2.83L4 21.41c.39.39.9.59 1.41.59.51 0 1.02-.2 1.41-.59l7.78-7.78 2.81-2.81c.8-.78.8-2.07 0-2.86zM5.41 20L4 18.59l7.72-7.72 1.47 1.35L5.41 20z\"/>\n",
              "  </svg>\n",
              "      </button>\n",
              "      \n",
              "  <style>\n",
              "    .colab-df-container {\n",
              "      display:flex;\n",
              "      flex-wrap:wrap;\n",
              "      gap: 12px;\n",
              "    }\n",
              "\n",
              "    .colab-df-convert {\n",
              "      background-color: #E8F0FE;\n",
              "      border: none;\n",
              "      border-radius: 50%;\n",
              "      cursor: pointer;\n",
              "      display: none;\n",
              "      fill: #1967D2;\n",
              "      height: 32px;\n",
              "      padding: 0 0 0 0;\n",
              "      width: 32px;\n",
              "    }\n",
              "\n",
              "    .colab-df-convert:hover {\n",
              "      background-color: #E2EBFA;\n",
              "      box-shadow: 0px 1px 2px rgba(60, 64, 67, 0.3), 0px 1px 3px 1px rgba(60, 64, 67, 0.15);\n",
              "      fill: #174EA6;\n",
              "    }\n",
              "\n",
              "    [theme=dark] .colab-df-convert {\n",
              "      background-color: #3B4455;\n",
              "      fill: #D2E3FC;\n",
              "    }\n",
              "\n",
              "    [theme=dark] .colab-df-convert:hover {\n",
              "      background-color: #434B5C;\n",
              "      box-shadow: 0px 1px 3px 1px rgba(0, 0, 0, 0.15);\n",
              "      filter: drop-shadow(0px 1px 2px rgba(0, 0, 0, 0.3));\n",
              "      fill: #FFFFFF;\n",
              "    }\n",
              "  </style>\n",
              "\n",
              "      <script>\n",
              "        const buttonEl =\n",
              "          document.querySelector('#df-9d02961e-b791-4246-a28c-0c9108fb664b button.colab-df-convert');\n",
              "        buttonEl.style.display =\n",
              "          google.colab.kernel.accessAllowed ? 'block' : 'none';\n",
              "\n",
              "        async function convertToInteractive(key) {\n",
              "          const element = document.querySelector('#df-9d02961e-b791-4246-a28c-0c9108fb664b');\n",
              "          const dataTable =\n",
              "            await google.colab.kernel.invokeFunction('convertToInteractive',\n",
              "                                                     [key], {});\n",
              "          if (!dataTable) return;\n",
              "\n",
              "          const docLinkHtml = 'Like what you see? Visit the ' +\n",
              "            '<a target=\"_blank\" href=https://colab.research.google.com/notebooks/data_table.ipynb>data table notebook</a>'\n",
              "            + ' to learn more about interactive tables.';\n",
              "          element.innerHTML = '';\n",
              "          dataTable['output_type'] = 'display_data';\n",
              "          await google.colab.output.renderOutput(dataTable, element);\n",
              "          const docLink = document.createElement('div');\n",
              "          docLink.innerHTML = docLinkHtml;\n",
              "          element.appendChild(docLink);\n",
              "        }\n",
              "      </script>\n",
              "    </div>\n",
              "  </div>\n",
              "  "
            ]
          },
          "metadata": {},
          "execution_count": 12
        }
      ],
      "source": [
        "# Load the diabetes dataset\n",
        "diabetes_X, diabetes_y = diabetes.data, diabetes.target\n",
        "\n",
        "# Print part of the dataset\n",
        "diabetes_X.head()"
      ]
    },
    {
      "cell_type": "markdown",
      "metadata": {
        "id": "oMYf1D5hSeCG"
      },
      "source": [
        "# Training Dataset: Inputs\n",
        "\n",
        "More precisely, an input $x^{(i)} \\in \\mathcal{X}$ is a $d$-dimensional vector of the form\n",
        "$$ x^{(i)} = \\begin{bmatrix}\n",
        "x^{(i)}_1 \\\\\n",
        "x^{(i)}_2 \\\\\n",
        "\\vdots \\\\\n",
        "x^{(i)}_d\n",
        "\\end{bmatrix}$$\n",
        "For example, it could be the measurements the values of the $d$ features for patient $i$.\n",
        "\n",
        "The set $\\mathcal{X}$ is called the feature space. Often, we have, $\\mathcal{X} = \\mathbb{R}^d$."
      ]
    },
    {
      "cell_type": "markdown",
      "metadata": {
        "id": "FHpYTtCgSeCG"
      },
      "source": [
        "Let's look at data for one patient."
      ]
    },
    {
      "cell_type": "code",
      "execution_count": 13,
      "metadata": {
        "id": "XSYKRqhfSeCG",
        "outputId": "bd18ab07-6eba-4539-9e62-daf35aa4c11b",
        "colab": {
          "base_uri": "https://localhost:8080/"
        }
      },
      "outputs": [
        {
          "output_type": "execute_result",
          "data": {
            "text/plain": [
              "age    0.038076\n",
              "sex    0.050680\n",
              "bmi    0.061696\n",
              "bp     0.021872\n",
              "s1    -0.044223\n",
              "s2    -0.034821\n",
              "s3    -0.043401\n",
              "s4    -0.002592\n",
              "s5     0.019908\n",
              "s6    -0.017646\n",
              "Name: 0, dtype: float64"
            ]
          },
          "metadata": {},
          "execution_count": 13
        }
      ],
      "source": [
        "diabetes_X.iloc[0]"
      ]
    },
    {
      "cell_type": "markdown",
      "metadata": {
        "id": "Paz55Gx1SeCH"
      },
      "source": [
        "# Training Dataset: Attributes\n",
        "\n",
        "We refer to the numerical variables describing the patient as *attributes*. Examples of attributes include:\n",
        "* The age of a patient.\n",
        "* The patient's gender.\n",
        "* The patient's BMI.\n",
        "\n",
        "Note that thes attributes in the above example have been mean-centered at zero and re-scaled to have a variance of one."
      ]
    },
    {
      "cell_type": "markdown",
      "metadata": {
        "id": "Zjvkk4-iSeCH"
      },
      "source": [
        "# Training Dataset: Features\n",
        "\n",
        "Often, an input object has many attributes, and we want to use these attributes to define more complex descriptions of the input.\n",
        "\n",
        "* Is the patient old and a man? (Useful if old men are at risk).\n",
        "* Is the BMI above the obesity threshold?\n",
        "\n",
        "We call these custom attributes *features*."
      ]
    },
    {
      "cell_type": "markdown",
      "metadata": {
        "id": "mn6KJ1XFSeCH"
      },
      "source": [
        "Let's create an \"old man\" feature."
      ]
    },
    {
      "cell_type": "code",
      "execution_count": null,
      "metadata": {
        "id": "ycB72mNfSeCH",
        "outputId": "7ac410c6-131d-4323-a0aa-9e69be00bd97"
      },
      "outputs": [
        {
          "data": {
            "text/html": [
              "<div>\n",
              "<style scoped>\n",
              "    .dataframe tbody tr th:only-of-type {\n",
              "        vertical-align: middle;\n",
              "    }\n",
              "\n",
              "    .dataframe tbody tr th {\n",
              "        vertical-align: top;\n",
              "    }\n",
              "\n",
              "    .dataframe thead th {\n",
              "        text-align: right;\n",
              "    }\n",
              "</style>\n",
              "<table border=\"1\" class=\"dataframe\">\n",
              "  <thead>\n",
              "    <tr style=\"text-align: right;\">\n",
              "      <th></th>\n",
              "      <th>age</th>\n",
              "      <th>sex</th>\n",
              "      <th>bmi</th>\n",
              "      <th>bp</th>\n",
              "      <th>s1</th>\n",
              "      <th>s2</th>\n",
              "      <th>s3</th>\n",
              "      <th>s4</th>\n",
              "      <th>s5</th>\n",
              "      <th>s6</th>\n",
              "      <th>old_man</th>\n",
              "    </tr>\n",
              "  </thead>\n",
              "  <tbody>\n",
              "    <tr>\n",
              "      <th>0</th>\n",
              "      <td>0.038076</td>\n",
              "      <td>0.050680</td>\n",
              "      <td>0.061696</td>\n",
              "      <td>0.021872</td>\n",
              "      <td>-0.044223</td>\n",
              "      <td>-0.034821</td>\n",
              "      <td>-0.043401</td>\n",
              "      <td>-0.002592</td>\n",
              "      <td>0.019908</td>\n",
              "      <td>-0.017646</td>\n",
              "      <td>False</td>\n",
              "    </tr>\n",
              "    <tr>\n",
              "      <th>1</th>\n",
              "      <td>-0.001882</td>\n",
              "      <td>-0.044642</td>\n",
              "      <td>-0.051474</td>\n",
              "      <td>-0.026328</td>\n",
              "      <td>-0.008449</td>\n",
              "      <td>-0.019163</td>\n",
              "      <td>0.074412</td>\n",
              "      <td>-0.039493</td>\n",
              "      <td>-0.068330</td>\n",
              "      <td>-0.092204</td>\n",
              "      <td>False</td>\n",
              "    </tr>\n",
              "    <tr>\n",
              "      <th>2</th>\n",
              "      <td>0.085299</td>\n",
              "      <td>0.050680</td>\n",
              "      <td>0.044451</td>\n",
              "      <td>-0.005671</td>\n",
              "      <td>-0.045599</td>\n",
              "      <td>-0.034194</td>\n",
              "      <td>-0.032356</td>\n",
              "      <td>-0.002592</td>\n",
              "      <td>0.002864</td>\n",
              "      <td>-0.025930</td>\n",
              "      <td>True</td>\n",
              "    </tr>\n",
              "    <tr>\n",
              "      <th>3</th>\n",
              "      <td>-0.089063</td>\n",
              "      <td>-0.044642</td>\n",
              "      <td>-0.011595</td>\n",
              "      <td>-0.036656</td>\n",
              "      <td>0.012191</td>\n",
              "      <td>0.024991</td>\n",
              "      <td>-0.036038</td>\n",
              "      <td>0.034309</td>\n",
              "      <td>0.022692</td>\n",
              "      <td>-0.009362</td>\n",
              "      <td>False</td>\n",
              "    </tr>\n",
              "    <tr>\n",
              "      <th>4</th>\n",
              "      <td>0.005383</td>\n",
              "      <td>-0.044642</td>\n",
              "      <td>-0.036385</td>\n",
              "      <td>0.021872</td>\n",
              "      <td>0.003935</td>\n",
              "      <td>0.015596</td>\n",
              "      <td>0.008142</td>\n",
              "      <td>-0.002592</td>\n",
              "      <td>-0.031991</td>\n",
              "      <td>-0.046641</td>\n",
              "      <td>False</td>\n",
              "    </tr>\n",
              "  </tbody>\n",
              "</table>\n",
              "</div>"
            ],
            "text/plain": [
              "        age       sex       bmi        bp        s1        s2        s3  \\\n",
              "0  0.038076  0.050680  0.061696  0.021872 -0.044223 -0.034821 -0.043401   \n",
              "1 -0.001882 -0.044642 -0.051474 -0.026328 -0.008449 -0.019163  0.074412   \n",
              "2  0.085299  0.050680  0.044451 -0.005671 -0.045599 -0.034194 -0.032356   \n",
              "3 -0.089063 -0.044642 -0.011595 -0.036656  0.012191  0.024991 -0.036038   \n",
              "4  0.005383 -0.044642 -0.036385  0.021872  0.003935  0.015596  0.008142   \n",
              "\n",
              "         s4        s5        s6  old_man  \n",
              "0 -0.002592  0.019908 -0.017646    False  \n",
              "1 -0.039493 -0.068330 -0.092204    False  \n",
              "2 -0.002592  0.002864 -0.025930     True  \n",
              "3  0.034309  0.022692 -0.009362    False  \n",
              "4 -0.002592 -0.031991 -0.046641    False  "
            ]
          },
          "execution_count": 13,
          "metadata": {},
          "output_type": "execute_result"
        }
      ],
      "source": [
        "diabetes_X['old_man'] = (diabetes_X['sex'] > 0) & (diabetes_X['age'] > 0.05)\n",
        "diabetes_X.head()"
      ]
    },
    {
      "cell_type": "markdown",
      "metadata": {
        "id": "C9TiTXlzSeCH"
      },
      "source": [
        "# Training Dataset: Features\n",
        "\n",
        "More formally, we can define a function $\\phi : \\mathcal{X} \\to \\mathbb{R}^p$ that takes an input $x^{(i)} \\in \\mathcal{X}$ and outputs a $p$-dimensional vector\n",
        "$$ \\phi(x^{(i)}) = \\left[\\begin{array}{@{}c@{}}\n",
        "\\phi(x^{(i)})_1 \\\\\n",
        "\\phi(x^{(i)})_2 \\\\\n",
        "\\vdots \\\\\n",
        "\\phi(x^{(i)})_p\n",
        "\\end{array} \\right]$$\n",
        "We say that $\\phi(x^{(i)})$ is a *featurized* input, and each $\\phi(x^{(i)})_j$ is a *feature*."
      ]
    },
    {
      "cell_type": "markdown",
      "metadata": {
        "id": "puijN5wCSeCH"
      },
      "source": [
        "# Features vs Attributes\n",
        "\n",
        "In practice, the terms attribute and features are often used interchangeably. Most authors refer to $x^{(i)}$ as a vector of features (i.e., they've been precomputed). \n",
        "\n",
        "We will follow this convention and use attribute only when there is ambiguity between features and attributes."
      ]
    },
    {
      "cell_type": "markdown",
      "metadata": {
        "id": "H-xx0aI3SeCH"
      },
      "source": [
        "# Features: Discrete vs. Continuous \n",
        "\n",
        "Features can be either discrete or continuous. We will see later that they may be handled differently by ML algorthims."
      ]
    },
    {
      "cell_type": "markdown",
      "metadata": {
        "id": "q4VaybRtSeCH"
      },
      "source": [
        "The BMI feature that we have seen earlier is an example of a continuous feature.\n",
        "\n",
        "We can visualize its distribution."
      ]
    },
    {
      "cell_type": "code",
      "execution_count": 14,
      "metadata": {
        "id": "xG1zuPuiSeCH",
        "outputId": "b4b2ccc2-50b6-4e62-929f-1b3a33eb5da4",
        "colab": {
          "base_uri": "https://localhost:8080/",
          "height": 283
        }
      },
      "outputs": [
        {
          "output_type": "execute_result",
          "data": {
            "text/plain": [
              "<matplotlib.axes._subplots.AxesSubplot at 0x7f3cfb81da60>"
            ]
          },
          "metadata": {},
          "execution_count": 14
        },
        {
          "output_type": "display_data",
          "data": {
            "text/plain": [
              "<Figure size 864x288 with 1 Axes>"
            ],
            "image/png": "[encoded data removed]"
          },
          "metadata": {
            "needs_background": "light"
          }
        }
      ],
      "source": [
        "diabetes_X.loc[:, 'bmi'].hist()"
      ]
    },
    {
      "cell_type": "markdown",
      "metadata": {
        "id": "P3xUMXHESeCH"
      },
      "source": [
        "Other features take on one of a finite number of discrete values. The `sex` column is an example of a categorical feature.\n",
        "\n",
        "In this example, the dataset has been pre-processed such that the two values happen to be `0.05068012` and `-0.04464164`."
      ]
    },
    {
      "cell_type": "code",
      "execution_count": 15,
      "metadata": {
        "id": "mWruUo8xSeCH",
        "outputId": "a2115cf7-e59b-48f9-ae9f-4b7b7d676d85",
        "colab": {
          "base_uri": "https://localhost:8080/",
          "height": 301
        }
      },
      "outputs": [
        {
          "output_type": "stream",
          "name": "stdout",
          "text": [
            "[ 0.05068012 -0.04464164]\n"
          ]
        },
        {
          "output_type": "execute_result",
          "data": {
            "text/plain": [
              "<matplotlib.axes._subplots.AxesSubplot at 0x7f3cfb7a33d0>"
            ]
          },
          "metadata": {},
          "execution_count": 15
        },
        {
          "output_type": "display_data",
          "data": {
            "text/plain": [
              "<Figure size 864x288 with 1 Axes>"
            ],
            "image/png": "[encoded data removed]"
          },
          "metadata": {
            "needs_background": "light"
          }
        }
      ],
      "source": [
        "print(diabetes_X.loc[:, 'sex'].unique())\n",
        "diabetes_X.loc[:, 'sex'].hist()"
      ]
    },
    {
      "cell_type": "markdown",
      "metadata": {
        "id": "WBLDvBoxSeCH"
      },
      "source": [
        "# Training Dataset: Targets\n",
        "\n",
        "For each patient, we are interested in predicting a quantity of interest, the *target*. In our example, this is the patient's diabetes risk.\n",
        "\n",
        "Formally, when $(x^{(i)}, y^{(i)})$ form a *training example*, each $y^{(i)} \\in \\mathcal{Y}$ is a target. We call $\\mathcal{Y}$ the target space."
      ]
    },
    {
      "cell_type": "markdown",
      "metadata": {
        "id": "9Z6xqzFzSeCH"
      },
      "source": [
        "We plot the distirbution of risk scores below."
      ]
    },
    {
      "cell_type": "code",
      "execution_count": 16,
      "metadata": {
        "id": "_KfXpet-SeCH",
        "outputId": "77050e01-dba8-441f-e152-2301b6c13d2a",
        "colab": {
          "base_uri": "https://localhost:8080/",
          "height": 297
        }
      },
      "outputs": [
        {
          "output_type": "execute_result",
          "data": {
            "text/plain": [
              "<matplotlib.axes._subplots.AxesSubplot at 0x7f3cfb6ec250>"
            ]
          },
          "metadata": {},
          "execution_count": 16
        },
        {
          "output_type": "display_data",
          "data": {
            "text/plain": [
              "<Figure size 864x288 with 1 Axes>"
            ],
            "image/png": "[encoded data removed]"
          },
          "metadata": {
            "needs_background": "light"
          }
        }
      ],
      "source": [
        "plt.xlabel('Diabetes risk score')\n",
        "plt.ylabel('Number of patients')\n",
        "diabetes_y.hist()"
      ]
    },
    {
      "cell_type": "markdown",
      "metadata": {
        "id": "4ZdfqLFYSeCH"
      },
      "source": [
        "# Targets: Regression vs. Classification\n",
        "\n",
        "We distinguish between two broad types of supervised learning problems that differ in the form of the target variable.\n",
        "\n",
        "1. __Regression__: The target variable $y$ is continuous. We are fitting a curve in a high-dimensional feature space that approximates the shape of the dataset.\n",
        "2. __Classification__: The target variable $y$ is discrete. Each discrete value corresponds to a *class* and we are looking for a hyperplane that separates the different classes."
      ]
    },
    {
      "cell_type": "markdown",
      "metadata": {
        "id": "N0AICzsxSeCH"
      },
      "source": [
        "We can easily turn our earlier regression example into classification by discretizing the diabetes risk scores into high or low."
      ]
    },
    {
      "cell_type": "code",
      "execution_count": 20,
      "metadata": {
        "id": "c7v7OVZeSeCH",
        "outputId": "11750247-ce5d-47e3-c794-7aab3919d260",
        "colab": {
          "base_uri": "https://localhost:8080/",
          "height": 283
        }
      },
      "outputs": [
        {
          "output_type": "execute_result",
          "data": {
            "text/plain": [
              "<matplotlib.legend.Legend at 0x7f3cfb673670>"
            ]
          },
          "metadata": {},
          "execution_count": 20
        },
        {
          "output_type": "display_data",
          "data": {
            "text/plain": [
              "<Figure size 864x288 with 1 Axes>"
            ],
            "image/png": "[encoded data removed]"
          },
          "metadata": {
            "needs_background": "light"
          }
        }
      ],
      "source": [
        "# Discretize the targets\n",
        "diabetes_y_train_discr = np.digitize(diabetes_y_train, bins=[150])\n",
        "\n",
        "# Visualize it\n",
        "plt.scatter(diabetes_X_train[diabetes_y_train_discr==0], diabetes_y_train[diabetes_y_train_discr==0], marker='o', s=80, facecolors='none', edgecolors='g')\n",
        "plt.scatter(diabetes_X_train[diabetes_y_train_discr==1], diabetes_y_train[diabetes_y_train_discr==1], marker='o', s=80, facecolors='none', edgecolors='r')\n",
        "plt.legend(['Low-Risk Patients', 'High-Risk Patients'])"
      ]
    },
    {
      "cell_type": "markdown",
      "metadata": {
        "id": "EwhM4NulSeCI"
      },
      "source": [
        "Let's try to generate predictions for this dataset."
      ]
    },
    {
      "cell_type": "code",
      "execution_count": 21,
      "metadata": {
        "id": "wQxqas8eSeCI",
        "outputId": "9e12569c-373d-4754-e81b-feb1bef6acf2",
        "colab": {
          "base_uri": "https://localhost:8080/",
          "height": 240
        }
      },
      "outputs": [
        {
          "output_type": "error",
          "ename": "TypeError",
          "evalue": "ignored",
          "traceback": [
            "\u001b[0;31m---------------------------------------------------------------------------\u001b[0m",
            "\u001b[0;31mTypeError\u001b[0m                                 Traceback (most recent call last)",
            "\u001b[0;32m<ipython-input-21-92cd0e7fdb3c>\u001b[0m in \u001b[0;36m<module>\u001b[0;34m\u001b[0m\n\u001b[1;32m      6\u001b[0m \u001b[0;34m\u001b[0m\u001b[0m\n\u001b[1;32m      7\u001b[0m \u001b[0;31m# Make predictions on the training set\u001b[0m\u001b[0;34m\u001b[0m\u001b[0;34m\u001b[0m\u001b[0;34m\u001b[0m\u001b[0m\n\u001b[0;32m----> 8\u001b[0;31m \u001b[0mdiabetes_y_train_pred\u001b[0m \u001b[0;34m=\u001b[0m \u001b[0mclf\u001b[0m\u001b[0;34m.\u001b[0m\u001b[0mpredict\u001b[0m\u001b[0;34m(\u001b[0m \u001b[0;34m)\u001b[0m\u001b[0;34m\u001b[0m\u001b[0;34m\u001b[0m\u001b[0m\n\u001b[0m\u001b[1;32m      9\u001b[0m \u001b[0;34m\u001b[0m\u001b[0m\n\u001b[1;32m     10\u001b[0m \u001b[0;31m# Visualize it\u001b[0m\u001b[0;34m\u001b[0m\u001b[0;34m\u001b[0m\u001b[0;34m\u001b[0m\u001b[0m\n",
            "\u001b[0;31mTypeError\u001b[0m: predict() missing 1 required positional argument: 'X'"
          ]
        }
      ],
      "source": [
        "# Create logistic regression object (note: this is actually a classification algorithm!)\n",
        "clf = linear_model.LogisticRegression()\n",
        "\n",
        "# Train the model using the training sets\n",
        "clf.fit(diabetes_X_train, diabetes_y_train_discr)\n",
        "\n",
        "# Make predictions on the training set\n",
        "diabetes_y_train_pred = clf.predict( )\n",
        "\n",
        "# Visualize it\n",
        "plt.scatter(diabetes_X_train[diabetes_y_train_discr==0], diabetes_y_train[diabetes_y_train_discr==0], marker='o', s=140, facecolors='none', edgecolors='g')\n",
        "plt.scatter(diabetes_X_train[diabetes_y_train_discr==1], diabetes_y_train[diabetes_y_train_discr==1], marker='o', s=140, facecolors='none', edgecolors='r')\n",
        "plt.scatter(diabetes_X_train[diabetes_y_train_pred==0], diabetes_y_train[diabetes_y_train_pred==0], color='g', s=20)\n",
        "plt.scatter(diabetes_X_train[diabetes_y_train_pred==1], diabetes_y_train[diabetes_y_train_pred==1], color='r', s=20)\n",
        "plt.legend(['Low-Risk Patients', 'High-Risk Patients', 'Low-Risk Predictions', 'High-Risk Predictions'])"
      ]
    },
    {
      "cell_type": "markdown",
      "metadata": {
        "id": "NX5Q50FcSeCI"
      },
      "source": [
        "<left><img width=25% src=\"https://github.com/xingyushu/cornell-cs5785-2020-applied-ml/blob/main/notebooks/img/cornell_tech2.svg?raw=1\"></left>\n",
        "# Part 3: Anatomy of a Supervised Learning Problem: Learning Algorithm\n",
        "\n",
        "Let's now look at what a general supervised learning algorithm looks like."
      ]
    },
    {
      "cell_type": "markdown",
      "metadata": {
        "id": "0NvBcNSmSeCI"
      },
      "source": [
        "# Recall: Three Components of A Supervised Machine Learning Problem\n",
        "\n",
        "At a high level, a supervised machine learning problem has the following structure:\n",
        "\n",
        "$$ \\text{Dataset} + \\text{Algorithm} \\to \\text{Predictive Model} $$\n",
        "\n",
        "The predictive model is chosen to model the relationship between inputs and targets. For instance, it can predict future targets."
      ]
    },
    {
      "cell_type": "markdown",
      "metadata": {
        "id": "eChq4jQnSeCI"
      },
      "source": [
        "# The Components of A Supervised Machine Learning Algorithm\n",
        "\n",
        "We can also define the high-level structure of a supervised learning algorithm as consisting of three components:\n",
        "* A __model class__: the set of possible models we consider.\n",
        "* An __objective__ function, which defines how good a model is.\n",
        "* An __optimizer__, which finds the best predictive model in the model class according to the objective function"
      ]
    },
    {
      "cell_type": "markdown",
      "metadata": {
        "id": "XxhFC-ntSeCI"
      },
      "source": [
        "Let's look again at our diabetes dataset for an example."
      ]
    },
    {
      "cell_type": "code",
      "execution_count": 26,
      "metadata": {
        "id": "YCP2takXSeCI",
        "outputId": "4f5b2cdd-a444-4d95-a9c3-09f7e27e77bd",
        "colab": {
          "base_uri": "https://localhost:8080/",
          "height": 206
        }
      },
      "outputs": [
        {
          "output_type": "execute_result",
          "data": {
            "text/plain": [
              "        age       sex       bmi        bp        s1        s2        s3  \\\n",
              "0  0.038076  0.050680  0.061696  0.021872 -0.044223 -0.034821 -0.043401   \n",
              "1 -0.001882 -0.044642 -0.051474 -0.026328 -0.008449 -0.019163  0.074412   \n",
              "2  0.085299  0.050680  0.044451 -0.005671 -0.045599 -0.034194 -0.032356   \n",
              "3 -0.089063 -0.044642 -0.011595 -0.036656  0.012191  0.024991 -0.036038   \n",
              "4  0.005383 -0.044642 -0.036385  0.021872  0.003935  0.015596  0.008142   \n",
              "\n",
              "         s4        s5        s6  \n",
              "0 -0.002592  0.019908 -0.017646  \n",
              "1 -0.039493 -0.068330 -0.092204  \n",
              "2 -0.002592  0.002864 -0.025930  \n",
              "3  0.034309  0.022692 -0.009362  \n",
              "4 -0.002592 -0.031991 -0.046641  "
            ],
            "text/html": [
              "\n",
              "  <div id=\"df-9ee52d82-c04f-4200-a30d-09fba6c6e423\">\n",
              "    <div class=\"colab-df-container\">\n",
              "      <div>\n",
              "<style scoped>\n",
              "    .dataframe tbody tr th:only-of-type {\n",
              "        vertical-align: middle;\n",
              "    }\n",
              "\n",
              "    .dataframe tbody tr th {\n",
              "        vertical-align: top;\n",
              "    }\n",
              "\n",
              "    .dataframe thead th {\n",
              "        text-align: right;\n",
              "    }\n",
              "</style>\n",
              "<table border=\"1\" class=\"dataframe\">\n",
              "  <thead>\n",
              "    <tr style=\"text-align: right;\">\n",
              "      <th></th>\n",
              "      <th>age</th>\n",
              "      <th>sex</th>\n",
              "      <th>bmi</th>\n",
              "      <th>bp</th>\n",
              "      <th>s1</th>\n",
              "      <th>s2</th>\n",
              "      <th>s3</th>\n",
              "      <th>s4</th>\n",
              "      <th>s5</th>\n",
              "      <th>s6</th>\n",
              "    </tr>\n",
              "  </thead>\n",
              "  <tbody>\n",
              "    <tr>\n",
              "      <th>0</th>\n",
              "      <td>0.038076</td>\n",
              "      <td>0.050680</td>\n",
              "      <td>0.061696</td>\n",
              "      <td>0.021872</td>\n",
              "      <td>-0.044223</td>\n",
              "      <td>-0.034821</td>\n",
              "      <td>-0.043401</td>\n",
              "      <td>-0.002592</td>\n",
              "      <td>0.019908</td>\n",
              "      <td>-0.017646</td>\n",
              "    </tr>\n",
              "    <tr>\n",
              "      <th>1</th>\n",
              "      <td>-0.001882</td>\n",
              "      <td>-0.044642</td>\n",
              "      <td>-0.051474</td>\n",
              "      <td>-0.026328</td>\n",
              "      <td>-0.008449</td>\n",
              "      <td>-0.019163</td>\n",
              "      <td>0.074412</td>\n",
              "      <td>-0.039493</td>\n",
              "      <td>-0.068330</td>\n",
              "      <td>-0.092204</td>\n",
              "    </tr>\n",
              "    <tr>\n",
              "      <th>2</th>\n",
              "      <td>0.085299</td>\n",
              "      <td>0.050680</td>\n",
              "      <td>0.044451</td>\n",
              "      <td>-0.005671</td>\n",
              "      <td>-0.045599</td>\n",
              "      <td>-0.034194</td>\n",
              "      <td>-0.032356</td>\n",
              "      <td>-0.002592</td>\n",
              "      <td>0.002864</td>\n",
              "      <td>-0.025930</td>\n",
              "    </tr>\n",
              "    <tr>\n",
              "      <th>3</th>\n",
              "      <td>-0.089063</td>\n",
              "      <td>-0.044642</td>\n",
              "      <td>-0.011595</td>\n",
              "      <td>-0.036656</td>\n",
              "      <td>0.012191</td>\n",
              "      <td>0.024991</td>\n",
              "      <td>-0.036038</td>\n",
              "      <td>0.034309</td>\n",
              "      <td>0.022692</td>\n",
              "      <td>-0.009362</td>\n",
              "    </tr>\n",
              "    <tr>\n",
              "      <th>4</th>\n",
              "      <td>0.005383</td>\n",
              "      <td>-0.044642</td>\n",
              "      <td>-0.036385</td>\n",
              "      <td>0.021872</td>\n",
              "      <td>0.003935</td>\n",
              "      <td>0.015596</td>\n",
              "      <td>0.008142</td>\n",
              "      <td>-0.002592</td>\n",
              "      <td>-0.031991</td>\n",
              "      <td>-0.046641</td>\n",
              "    </tr>\n",
              "  </tbody>\n",
              "</table>\n",
              "</div>\n",
              "      <button class=\"colab-df-convert\" onclick=\"convertToInteractive('df-9ee52d82-c04f-4200-a30d-09fba6c6e423')\"\n",
              "              title=\"Convert this dataframe to an interactive table.\"\n",
              "              style=\"display:none;\">\n",
              "        \n",
              "  <svg xmlns=\"http://www.w3.org/2000/svg\" height=\"24px\"viewBox=\"0 0 24 24\"\n",
              "       width=\"24px\">\n",
              "    <path d=\"M0 0h24v24H0V0z\" fill=\"none\"/>\n",
              "    <path d=\"M18.56 5.44l.94 2.06.94-2.06 2.06-.94-2.06-.94-.94-2.06-.94 2.06-2.06.94zm-11 1L8.5 8.5l.94-2.06 2.06-.94-2.06-.94L8.5 2.5l-.94 2.06-2.06.94zm10 10l.94 2.06.94-2.06 2.06-.94-2.06-.94-.94-2.06-.94 2.06-2.06.94z\"/><path d=\"M17.41 7.96l-1.37-1.37c-.4-.4-.92-.59-1.43-.59-.52 0-1.04.2-1.43.59L10.3 9.45l-7.72 7.72c-.78.78-.78 2.05 0 2.83L4 21.41c.39.39.9.59 1.41.59.51 0 1.02-.2 1.41-.59l7.78-7.78 2.81-2.81c.8-.78.8-2.07 0-2.86zM5.41 20L4 18.59l7.72-7.72 1.47 1.35L5.41 20z\"/>\n",
              "  </svg>\n",
              "      </button>\n",
              "      \n",
              "  <style>\n",
              "    .colab-df-container {\n",
              "      display:flex;\n",
              "      flex-wrap:wrap;\n",
              "      gap: 12px;\n",
              "    }\n",
              "\n",
              "    .colab-df-convert {\n",
              "      background-color: #E8F0FE;\n",
              "      border: none;\n",
              "      border-radius: 50%;\n",
              "      cursor: pointer;\n",
              "      display: none;\n",
              "      fill: #1967D2;\n",
              "      height: 32px;\n",
              "      padding: 0 0 0 0;\n",
              "      width: 32px;\n",
              "    }\n",
              "\n",
              "    .colab-df-convert:hover {\n",
              "      background-color: #E2EBFA;\n",
              "      box-shadow: 0px 1px 2px rgba(60, 64, 67, 0.3), 0px 1px 3px 1px rgba(60, 64, 67, 0.15);\n",
              "      fill: #174EA6;\n",
              "    }\n",
              "\n",
              "    [theme=dark] .colab-df-convert {\n",
              "      background-color: #3B4455;\n",
              "      fill: #D2E3FC;\n",
              "    }\n",
              "\n",
              "    [theme=dark] .colab-df-convert:hover {\n",
              "      background-color: #434B5C;\n",
              "      box-shadow: 0px 1px 3px 1px rgba(0, 0, 0, 0.15);\n",
              "      filter: drop-shadow(0px 1px 2px rgba(0, 0, 0, 0.3));\n",
              "      fill: #FFFFFF;\n",
              "    }\n",
              "  </style>\n",
              "\n",
              "      <script>\n",
              "        const buttonEl =\n",
              "          document.querySelector('#df-9ee52d82-c04f-4200-a30d-09fba6c6e423 button.colab-df-convert');\n",
              "        buttonEl.style.display =\n",
              "          google.colab.kernel.accessAllowed ? 'block' : 'none';\n",
              "\n",
              "        async function convertToInteractive(key) {\n",
              "          const element = document.querySelector('#df-9ee52d82-c04f-4200-a30d-09fba6c6e423');\n",
              "          const dataTable =\n",
              "            await google.colab.kernel.invokeFunction('convertToInteractive',\n",
              "                                                     [key], {});\n",
              "          if (!dataTable) return;\n",
              "\n",
              "          const docLinkHtml = 'Like what you see? Visit the ' +\n",
              "            '<a target=\"_blank\" href=https://colab.research.google.com/notebooks/data_table.ipynb>data table notebook</a>'\n",
              "            + ' to learn more about interactive tables.';\n",
              "          element.innerHTML = '';\n",
              "          dataTable['output_type'] = 'display_data';\n",
              "          await google.colab.output.renderOutput(dataTable, element);\n",
              "          const docLink = document.createElement('div');\n",
              "          docLink.innerHTML = docLinkHtml;\n",
              "          element.appendChild(docLink);\n",
              "        }\n",
              "      </script>\n",
              "    </div>\n",
              "  </div>\n",
              "  "
            ]
          },
          "metadata": {},
          "execution_count": 26
        }
      ],
      "source": [
        "import numpy as np\n",
        "import pandas as pd\n",
        "from sklearn import datasets\n",
        "import matplotlib.pyplot as plt\n",
        "plt.rcParams['figure.figsize'] = [12, 4]\n",
        "\n",
        "# Load the diabetes dataset\n",
        "diabetes = datasets.load_diabetes(as_frame=True)\n",
        "diabetes_X, diabetes_y = diabetes.data, diabetes.target\n",
        "\n",
        "# Print part of the dataset\n",
        "diabetes_X.head()"
      ]
    },
    {
      "cell_type": "markdown",
      "metadata": {
        "id": "zIcd4mPdSeCI"
      },
      "source": [
        "# Model: Notation\n",
        "\n",
        "We'll say that a model is a function\n",
        "$$ f : \\mathcal{X} \\to \\mathcal{Y} $$\n",
        "that maps inputs $x \\in \\mathcal{X}$ to targets $y \\in \\mathcal{Y}$."
      ]
    },
    {
      "cell_type": "markdown",
      "metadata": {
        "id": "Ol3jWZ9ZSeCI"
      },
      "source": [
        "Often, models have *parameters* $\\theta \\in \\Theta$ living in a set $\\Theta$. We will then write the model as\n",
        "$$ f_\\theta : \\mathcal{X} \\to \\mathcal{Y} $$\n",
        "to denote that it's parametrized by $\\theta$."
      ]
    },
    {
      "cell_type": "markdown",
      "metadata": {
        "id": "FOZK7bXMSeCI"
      },
      "source": [
        "# Model Class: Notation\n",
        "\n",
        "Formally, the model class is a set \n",
        "$$\\mathcal{M} \\subseteq \\{f \\mid f : \\mathcal{X} \\to \\mathcal{Y} \\}$$\n",
        "of possible models that map input features to targets."
      ]
    },
    {
      "cell_type": "markdown",
      "metadata": {
        "id": "wnl4wZzGSeCI"
      },
      "source": [
        "When the models $f_\\theta$ are paremetrized by *parameters* $\\theta \\in \\Theta$ living in some set $\\Theta$. Thus we can also write\n",
        "$$\\mathcal{M} = \\{f_\\theta \\mid f : \\mathcal{X} \\to \\mathcal{Y}; \\; \\theta \\in \\Theta \\}.$$"
      ]
    },
    {
      "cell_type": "markdown",
      "metadata": {
        "id": "7XscDi0aSeCI"
      },
      "source": [
        "# Model Class: Example\n",
        "\n",
        "One simple approach is to assume that $x$ and $y$ are related by a linear model of the form\n",
        "\\begin{align*}\n",
        "y & = \\theta_0 + \\theta_1 \\cdot x_1 + \\theta_2 \\cdot x_2 + ... + \\theta_d \\cdot x_d\n",
        "\\end{align*}\n",
        "where $x$ is a featurized output and $y$ is the target.\n",
        "\n",
        "The $\\theta_j$ are the *parameters* of the model.\n",
        "<!-- By using the notation $x_0 = 1$, we can represent the model in a vectorized form\n",
        "$$ y = \\sum_{j=0}^d \\beta_j \\cdot x_j = \\vec \\beta \\cdot \\vec x. $$\n",
        "where $\\vec x$ is a vector of features. -->"
      ]
    },
    {
      "cell_type": "markdown",
      "metadata": {
        "id": "gW0c6N3VSeCI"
      },
      "source": [
        "# Objectives: Notation\n",
        "\n",
        "<!-- Given a training set, how do we pick the parameters $\\theta$ for the model? A natural approach is to select $\\theta$ such that $f_\\theta(x^{(i)})$ is close to $y^{(i)}$ on a training dataset $\\mathcal{D} = \\{(x^{(i)}, y^{(i)}) \\mid i = 1,2,...,n\\}$. -->\n",
        "\n",
        "To capture this intuition, we define an *objective function* (also called a *loss function*)\n",
        "$$J(f) : \\mathcal{M} \\to [0, \\infty), $$\n",
        "which describes the extent to which $f$ \"fits\" the data $\\mathcal{D} = \\{(x^{(i)}, y^{(i)}) \\mid i = 1,2,...,n\\}$."
      ]
    },
    {
      "cell_type": "markdown",
      "metadata": {
        "id": "Is1RouGpSeCI"
      },
      "source": [
        "When $f$ is parametrized by $\\theta \\in \\Theta$, the objective becomes a function $J(\\theta) : \\Theta \\to [0, \\infty).$"
      ]
    },
    {
      "cell_type": "markdown",
      "metadata": {
        "id": "QaptjuJUSeCI"
      },
      "source": [
        "# Objective: Examples\n",
        "\n",
        "What would are some possible objective functions? We will see many, but here are a few examples:\n",
        "* Mean squared error: $$J(\\theta) = \\frac{1}{2n} \\sum_{i=1}^n \\left( f_\\theta(x^{(i)}) - y^{(i)} \\right)^2$$\n",
        "* Absolute (L1) error: $$J(\\theta) = \\frac{1}{n} \\sum_{i=1}^n \\left| f_\\theta(x^{(i)}) - y^{(i)} \\right|$$\n",
        "\n",
        "These are defined for a dataset $\\mathcal{D} = \\{(x^{(i)}, y^{(i)}) \\mid i = 1,2,...,n\\}$."
      ]
    },
    {
      "cell_type": "code",
      "execution_count": 25,
      "metadata": {
        "id": "x9_aEIUsSeCI",
        "outputId": "4c57837b-ac1c-409d-e251-a6570c4622d2",
        "colab": {
          "base_uri": "https://localhost:8080/"
        }
      },
      "outputs": [
        {
          "output_type": "stream",
          "name": "stdout",
          "text": [
            "Mean squared error: 1.50\n",
            "Mean absolute error: 1.00\n"
          ]
        }
      ],
      "source": [
        "from sklearn.metrics import mean_squared_error, mean_absolute_error\n",
        "\n",
        "y1 = np.array([1, 2, 3, 4])\n",
        "y2 = np.array([-1, 1, 3, 5])\n",
        "\n",
        "print('Mean squared error: %.2f' % mean_squared_error(y1, y2))\n",
        "print('Mean absolute error: %.2f' % mean_absolute_error(y1, y2))"
      ]
    },
    {
      "cell_type": "markdown",
      "metadata": {
        "id": "ULmaYDekSeCI"
      },
      "source": [
        "# Optimizer: Notation\n",
        "\n",
        "At a high-level an optimizer takes an objective $J$ and a model class $\\mathcal{M}$ and finds a model $f \\in \\mathcal{M}$ with the smallest value of the objective $J$.\n",
        "\n",
        "\\begin{align*}\n",
        "\\min_{f \\in \\mathcal{M}} J(f)\n",
        "\\end{align*}\n",
        "\n",
        "Intuitively, this is the function that bests \"fits\" the data on the training dataset."
      ]
    },
    {
      "cell_type": "markdown",
      "metadata": {
        "id": "d-a_NXeeSeCI"
      },
      "source": [
        "When $f$ is parametrized by $\\theta \\in \\Theta$, the optimizer minimizes a function $J(\\theta)$ over all $\\theta \\in \\Theta$."
      ]
    },
    {
      "cell_type": "markdown",
      "metadata": {
        "id": "fqpEnq8zSeCI"
      },
      "source": [
        "# Optimizer: Example\n",
        "\n",
        "We will see that behind the scenes, the `sklearn.linear_models.LinearRegression` algorithm optimizes the MSE loss.\n",
        "\n",
        "\\begin{align*}\n",
        "\\min_{\\theta \\in \\mathbb{R}} \\frac{1}{2n} \\sum_{i=1}^n \\left( f_\\theta(x^{(i)}) - y^{(i)} \\right)^2\n",
        "\\end{align*}\n",
        "\n",
        "We can easily measure the quality of the fit on the training set and the test set."
      ]
    },
    {
      "cell_type": "markdown",
      "metadata": {
        "id": "ADHY56x4SeCJ"
      },
      "source": [
        "Let's run the above algorithm on our diabetes dataset."
      ]
    },
    {
      "cell_type": "code",
      "execution_count": 27,
      "metadata": {
        "id": "9hnWFqUCSeCJ"
      },
      "outputs": [],
      "source": [
        "# Collect 20 data points for training\n",
        "diabetes_X_train = diabetes_X.iloc[-20:]\n",
        "diabetes_y_train = diabetes_y.iloc[-20:]\n",
        "\n",
        "# Create linear regression object\n",
        "regr = linear_model.LinearRegression()\n",
        "\n",
        "# Train the model using the training sets\n",
        "regr.fit(diabetes_X_train, diabetes_y_train.values)\n",
        "\n",
        "# Make predictions on the training set\n",
        "diabetes_y_train_pred = regr.predict(diabetes_X_train)\n",
        "\n",
        "# Collect 3 data points for testing\n",
        "diabetes_X_test = diabetes_X.iloc[:3]\n",
        "diabetes_y_test = diabetes_y.iloc[:3]\n",
        "\n",
        "# generate predictions on the new patients\n",
        "diabetes_y_test_pred = regr.predict(diabetes_X_test)"
      ]
    },
    {
      "cell_type": "markdown",
      "metadata": {
        "id": "iBj1nwGQSeCJ"
      },
      "source": [
        "The algorithm returns a predictive model. We can visualize its predictions below."
      ]
    },
    {
      "cell_type": "code",
      "execution_count": 28,
      "metadata": {
        "id": "iJlNuX9iSeCJ",
        "outputId": "a357fa92-74c1-4b10-fdde-4ec8f9338af9",
        "colab": {
          "base_uri": "https://localhost:8080/",
          "height": 297
        }
      },
      "outputs": [
        {
          "output_type": "execute_result",
          "data": {
            "text/plain": [
              "<matplotlib.legend.Legend at 0x7f3cfb4baca0>"
            ]
          },
          "metadata": {},
          "execution_count": 28
        },
        {
          "output_type": "display_data",
          "data": {
            "text/plain": [
              "<Figure size 864x288 with 1 Axes>"
            ],
            "image/png": "[encoded data removed]"
          },
          "metadata": {
            "needs_background": "light"
          }
        }
      ],
      "source": [
        "# visualize the results\n",
        "plt.xlabel('Body Mass Index (BMI)')\n",
        "plt.ylabel('Diabetes Risk')\n",
        "plt.scatter(diabetes_X_train.loc[:, ['bmi']], diabetes_y_train)\n",
        "plt.scatter(diabetes_X_test.loc[:, ['bmi']], diabetes_y_test, color='red', marker='o')\n",
        "# plt.scatter(diabetes_X_train.loc[:, ['bmi']], diabetes_y_train_pred, color='black', linewidth=1)\n",
        "plt.plot(diabetes_X_test.loc[:, ['bmi']], diabetes_y_test_pred, 'x', color='red', mew=3, markersize=8)\n",
        "plt.legend(['Model', 'Prediction', 'Initial patients', 'New patients'])"
      ]
    },
    {
      "cell_type": "code",
      "execution_count": null,
      "metadata": {
        "id": "EofnJHfmSeCJ",
        "outputId": "5a22aba2-2e5f-4a28-c5a6-5af40d5b123e"
      },
      "outputs": [
        {
          "name": "stdout",
          "output_type": "stream",
          "text": [
            "Training set mean squared error: 1118.22\n",
            "Test set mean squared error: 667.81\n",
            "Test set mean squared error on random inputs: 15887.97\n"
          ]
        }
      ],
      "source": [
        "from sklearn.metrics import mean_squared_error\n",
        "\n",
        "print('Training set mean squared error: %.2f'\n",
        "      % mean_squared_error(diabetes_y_train, diabetes_y_train_pred))\n",
        "print('Test set mean squared error: %.2f'\n",
        "      % mean_squared_error(diabetes_y_test, diabetes_y_test_pred))\n",
        "print('Test set mean squared error on random inputs: %.2f'\n",
        "      % mean_squared_error(diabetes_y_test, np.random.randn(*diabetes_y_test_pred.shape)))"
      ]
    },
    {
      "cell_type": "markdown",
      "metadata": {
        "id": "XFIiTO01SeCJ"
      },
      "source": [
        "# Summary: Components of A Supervised Machine Learning Problem\n",
        "\n",
        "At a high level, a supervised machine learning problem has the following structure:\n",
        "\n",
        "$$ \\text{Dataset} + \\underbrace{\\text{Algorithm}}_\\text{Model Class + Objective + Optimizer } \\to \\text{Predictive Model} $$\n",
        "\n",
        "The predictive model is chosen to model the relationship between inputs and targets. For instance, it can predict future targets."
      ]
    },
    {
      "cell_type": "markdown",
      "metadata": {
        "id": "ZTjGYGieSeCJ"
      },
      "source": [
        "# Notation: Feature Matrix\n",
        "\n",
        "Suppose that we have a dataset of size $n$ (e.g., $n$ patients), indexed by $i=1,2,...,n$. Each $x^{(i)}$ is a vector of $d$ features.\n",
        "\n",
        "#### Feature Matrix\n",
        "Machine learning algorithms are most easily defined in the language of linear algebra. Therefore, it will be useful to represent the entire dataset as one matrix $X \\in \\mathbb{R}^{n \\times d}$, of the form:\n",
        "$$ X = \\begin{bmatrix}\n",
        "x^{(1)}_1 & x^{(2)}_1 & \\ldots & x^{(n)}_1 \\\\\n",
        "x^{(1)}_2 & x^{(2)}_2 & \\ldots & x^{(n)}_2 \\\\\n",
        "\\vdots \\\\\n",
        "x^{(1)}_d & x^{(2)}_d & \\ldots & x^{(n)}_d\n",
        "\\end{bmatrix}.$$\n",
        "\n",
        "Similarly, we can vectorize the target variables into a vector $y \\in \\mathbb{R}^n$ of the form\n",
        "$$ y = \\begin{bmatrix}\n",
        "x^{(1)} \\\\\n",
        "x^{(2)} \\\\\n",
        "\\vdots \\\\\n",
        "x^{(n)}\n",
        "\\end{bmatrix}.$$"
      ]
    },
    {
      "cell_type": "code",
      "execution_count": null,
      "metadata": {
        "id": "69Cm-ioqSeCJ"
      },
      "outputs": [],
      "source": []
    }
  ],
  "metadata": {
    "accelerator": "GPU",
    "celltoolbar": "Slideshow",
    "colab": {
      "name": "neural-ode.ipynb",
      "provenance": []
    },
    "kernelspec": {
      "display_name": "aml",
      "language": "python",
      "name": "aml"
    },
    "language_info": {
      "codemirror_mode": {
        "name": "ipython",
        "version": 3
      },
      "file_extension": ".py",
      "mimetype": "text/x-python",
      "name": "python",
      "nbconvert_exporter": "python",
      "pygments_lexer": "ipython3",
      "version": "3.6.7"
    },
    "rise": {
      "controlsTutorial": false,
      "height": 900,
      "help": false,
      "margin": 0,
      "maxScale": 2,
      "minScale": 0.2,
      "progress": true,
      "scroll": true,
      "theme": "simple",
      "width": 1200
    }
  },
  "nbformat": 4,
  "nbformat_minor": 0
}